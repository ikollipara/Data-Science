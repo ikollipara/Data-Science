{
 "cells": [
  {
   "cell_type": "markdown",
   "id": "0949ddc6-8342-4047-a4f9-c692a2b35ce4",
   "metadata": {},
   "source": [
    "# World Wide Wine Society Classifier\n",
    "\n",
    "Ian Kollipara\n",
    "\n",
    "CS 392 Seminar for Data Science\n",
    "\n",
    "2022.03.16"
   ]
  },
  {
   "cell_type": "code",
   "execution_count": 48,
   "id": "35b1d8c6-ed88-44b8-811a-2f76596b25e5",
   "metadata": {},
   "outputs": [],
   "source": [
    "import pandas as pd\n",
    "import seaborn as sns\n",
    "from sklearn.model_selection import train_test_split, cross_val_score\n",
    "from sklearn.neighbors import KNeighborsClassifier\n",
    "from sklearn.metrics import confusion_matrix, accuracy_score, precision_score, recall_score, f1_score\n",
    "from sklearn.tree import DecisionTreeClassifier\n",
    "from sklearn.ensemble import RandomForestClassifier"
   ]
  },
  {
   "cell_type": "code",
   "execution_count": 49,
   "id": "50a66539-7676-4878-aead-6e2758fc5894",
   "metadata": {},
   "outputs": [],
   "source": [
    "df = pd.read_csv(\"Red Wine.csv\", sep=\";\")"
   ]
  },
  {
   "cell_type": "markdown",
   "id": "d9957d8e-a03d-46d2-a0c3-9625a489760b",
   "metadata": {},
   "source": [
    "## Preprocessing\n",
    "### Data Exploration\n",
    "\n",
    "This dataset was interesting, as the wine distribution seemed to form a discrete bell curve. This observation proved useful later on. However, this observation can be seen below."
   ]
  },
  {
   "cell_type": "code",
   "execution_count": 50,
   "id": "f799b785-0790-4738-adb5-75cfc32036a3",
   "metadata": {},
   "outputs": [
    {
     "data": {
      "text/plain": [
       "Text(0.5, 1.0, 'Distribution of Wine Quality Ratings')"
      ]
     },
     "execution_count": 50,
     "metadata": {},
     "output_type": "execute_result"
    },
    {
     "data": {
      "image/png": "[encoded data removed]",
      "text/plain": [
       "<Figure size 432x288 with 1 Axes>"
      ]
     },
     "metadata": {
      "needs_background": "light"
     },
     "output_type": "display_data"
    }
   ],
   "source": [
    "quality_dist_plot = sns.histplot(df, x=\"quality\", discrete=True)\n",
    "quality_dist_plot.set_title(\"Distribution of Wine Quality Ratings\")"
   ]
  },
  {
   "cell_type": "markdown",
   "id": "5799b8c1-2ff4-4ace-b1a0-cbdf4485101f",
   "metadata": {},
   "source": [
    "Besides simply noting the aformentioned observation, an important feature was \"Volatile Acidity\", as accordin to Zoecklein, \"volatile acidity is used routinely as an indicator of wine spoilage\" (2011). This fact led to the graph below. The regression line isn't as clean as it could be, due to the fact that Quality is a discrete value.\n"
   ]
  },
  {
   "cell_type": "code",
   "execution_count": 51,
   "id": "51a72c9d-a10e-4d66-afe7-4f6246f05c4d",
   "metadata": {},
   "outputs": [
    {
     "data": {
      "text/plain": [
       "Text(0.5, 1.0, 'Quality vs. Volatile Acidity')"
      ]
     },
     "execution_count": 51,
     "metadata": {},
     "output_type": "execute_result"
    },
    {
     "data": {
      "image/png": "[encoded data removed]",
      "text/plain": [
       "<Figure size 432x288 with 1 Axes>"
      ]
     },
     "metadata": {
      "needs_background": "light"
     },
     "output_type": "display_data"
    }
   ],
   "source": [
    "q_vs_va_plot = sns.regplot(x=\"quality\", y=\"volatile acidity\", data=df)\n",
    "q_vs_va_plot.set_title(\"Quality vs. Volatile Acidity\")"
   ]
  },
  {
   "cell_type": "markdown",
   "id": "af12d9bb-1794-41a5-a81a-a72217512a25",
   "metadata": {},
   "source": [
    "The last addition was that of another feature: Bound Sulfur Dioxide. According to Savits:\n",
    "> Sulfur dioxide is used in winemaking as a preservative to prevent oxidation and microbial spoilage. It exists in three forms; bisulfite (HSO3-), molecular SO2, and sulfite (SO32). The equilibrium is pH dependent with the predominate form at wine pH being bisulfite. Most of the rest is molecular and very little, if any, remains in sulfite form. These forms make up what is termed as ‘free SO2’. Free SO2 can be lost through volatilization or binding, thus management is important. A target of 0.6-0.8 mg/L (ppm) molecular SO2 has been deemed sufficient to keep wine protected. (2019)\n",
    "\n",
    "![image.png](https://www.extension.iastate.edu/wine/wp-content/uploads/2019/04/jennie_newsletter_pic.png) \n",
    "\n",
    "(Savits, 2019)\n",
    "\n",
    "All of this to say, this column addition added some value and better predictions for the model, as seen further down."
   ]
  },
  {
   "cell_type": "code",
   "execution_count": 52,
   "id": "955a997d-5614-41e9-88ee-6a65f191c201",
   "metadata": {},
   "outputs": [],
   "source": [
    "df[\"bound sulfur dioxide\"] = df[\"total sulfur dioxide\"] - df[\"free sulfur dioxide\"]"
   ]
  },
  {
   "cell_type": "markdown",
   "id": "31ba5be6-91ea-458e-8f31-1de474792d66",
   "metadata": {},
   "source": [
    "### Binary Classification Transformation\n",
    "\n",
    "For creating the binary classification, as noted above the bell curve indicates that a majority of the wine lies at $5\\geq$, as such I chose this as the boundary of whether a wine is considered \"good\". This chose was made in the mindset to optimize for recall, as more will be considered good - which means that a majority will pass through. This choice yields good results, as seen further down."
   ]
  },
  {
   "cell_type": "code",
   "execution_count": 53,
   "id": "4ef2a3ca-f594-406e-9768-9b9c587f77b4",
   "metadata": {},
   "outputs": [],
   "source": [
    "df[\"quality\"] = df[\"quality\"].apply(lambda q: 0 if q < 5 else 1)"
   ]
  },
  {
   "cell_type": "markdown",
   "id": "100c6635-9c06-4a57-9c55-1be32f108544",
   "metadata": {},
   "source": [
    "## Classification\n",
    "\n",
    "### Creating Test Data"
   ]
  },
  {
   "cell_type": "code",
   "execution_count": 54,
   "id": "ed47b8aa-16a1-4328-a9ff-32c12934d388",
   "metadata": {},
   "outputs": [],
   "source": [
    "# This code is adapted from https://blackboard.cune.edu/bbcswebdav/pid-1545189-dt-content-rid-14535247_1/courses/CS-392-01_202220/ClassificationTutorial.html\n",
    "X = df.drop(\"quality\", axis=1)\n",
    "y = df[\"quality\"]\n",
    "X_train, X_test, y_train, y_test = train_test_split(X, y)"
   ]
  },
  {
   "cell_type": "markdown",
   "id": "bef3440a-5fcf-4223-a24e-c5358a939d0c",
   "metadata": {},
   "source": [
    "### K-Nearest Neighbors\n",
    "\n",
    "This model is an instance-based model. What that translates to is the data itself comprises the model. Predictions are then made based on the $K$ nearest neighbor points, hence the name. This $K$ is a variable, and can change. This model is quite slow at predictions and doesn't really scale well to large datasets, as such it I don't highly recommend it.\n",
    "\n",
    "In terms of hyperparameter tuning, I tested a range of $K$ values, going from 3-7. This range is built around SKLearn's default of 5. Ultimately, as seen below, 5 is the best option."
   ]
  },
  {
   "cell_type": "code",
   "execution_count": 55,
   "id": "c59bce14-3846-4882-94e7-78b2d8e3a099",
   "metadata": {},
   "outputs": [
    {
     "name": "stdout",
     "output_type": "stream",
     "text": [
      "K=3\n",
      "[[  1  14]\n",
      " [  1 384]]\n",
      "\n",
      "K=4\n",
      "[[  1  14]\n",
      " [  2 383]]\n",
      "\n",
      "K=5\n",
      "[[  0  15]\n",
      " [  0 385]]\n",
      "\n",
      "K=6\n",
      "[[  0  15]\n",
      " [  1 384]]\n",
      "\n",
      "K=7\n",
      "[[  0  15]\n",
      " [  0 385]]\n",
      "\n"
     ]
    }
   ],
   "source": [
    "for i in range(3, 8):\n",
    "    kmodel = KNeighborsClassifier(i)\n",
    "    kmodel.fit(X_train, y_train)\n",
    "    \n",
    "    y_pred = kmodel.predict(X_test)\n",
    "    print(f\"K={i}\")\n",
    "    print(confusion_matrix(y_test, y_pred))\n",
    "    print()"
   ]
  },
  {
   "cell_type": "markdown",
   "id": "cc3868bf-8ebf-4e63-9d47-8027df13cd12",
   "metadata": {},
   "source": [
    "Given we have a strong model, we can then test using normal metrics. These metrics will be compared against each other in the conclusion.\n",
    "\n",
    "The metrics chosen are:\n",
    "- Accuracy\n",
    "- Precision\n",
    "- Recall\n",
    "- F1 Score\n",
    "\n",
    "These 4 build a strong basis on which we can compare the models. As Accuracy is a simple metric, tellin how well each prediction was. Precision focuses on how well the model avoids false positivies, that is values that shouldn't be \"good\", but were classified as such. Recall is the oppisite direction, focusing on avoiding false negatives, that is values that were classified as \"bad\", when they were not. This metics is the key one to look at, as it makes sure \"no good wine goes unnoticed\". The last is F$_1$ Score, which balances Precision and Recall against each other - providing a smarter Accuracy measurement."
   ]
  },
  {
   "cell_type": "code",
   "execution_count": 56,
   "id": "c5159feb-9b80-4cbb-ae80-ea3c444c2e18",
   "metadata": {},
   "outputs": [
    {
     "name": "stdout",
     "output_type": "stream",
     "text": [
      "Accuracy: 0.9625\n",
      "Precision: 0.9625\n",
      "Recall: 1.0\n",
      "F1 Score: 0.980891719745223\n"
     ]
    }
   ],
   "source": [
    "kmodel = KNeighborsClassifier().fit(X_train, y_train)\n",
    "y_pred = kmodel.predict(X_test)\n",
    "\n",
    "accuracy = accuracy_score(y_test, y_pred)\n",
    "precision = precision_score(y_test, y_pred)\n",
    "recall = recall_score(y_test, y_pred)\n",
    "f1_score_ = f1_score(y_test, y_pred)\n",
    "\n",
    "print(f\"Accuracy: {accuracy}\")\n",
    "print(f\"Precision: {precision}\")\n",
    "print(f\"Recall: {recall}\")\n",
    "print(f\"F1 Score: {f1_score_}\")"
   ]
  },
  {
   "cell_type": "markdown",
   "id": "fa7f6f71-f9e9-4d67-8f7f-eb4d4f4590f6",
   "metadata": {},
   "source": [
    "These results show the optimization for Recall was a smart choice. Besides that, many of the metrics show strong results. The fear of overfitting is then squashed by the `cross_val_score` which shows the model does well against all values in the dataset."
   ]
  },
  {
   "cell_type": "code",
   "execution_count": 57,
   "id": "9ee66556-427a-457c-9cc9-872322659d54",
   "metadata": {},
   "outputs": [
    {
     "name": "stdout",
     "output_type": "stream",
     "text": [
      "cv=4\n",
      "[0.96       0.96       0.945      0.96491228]\n",
      "\n",
      "cv=5\n",
      "[0.9625     0.959375   0.959375   0.95       0.96238245]\n",
      "\n",
      "cv=6\n",
      "[0.9588015  0.9588015  0.9588015  0.94736842 0.96240602 0.96240602]\n",
      "\n",
      "cv=7\n",
      "[0.96069869 0.96069869 0.96069869 0.96052632 0.95175439 0.96052632\n",
      " 0.96052632]\n",
      "\n",
      "cv=8\n",
      "[0.96       0.96       0.96       0.96       0.95       0.95\n",
      " 0.96       0.96482412]\n",
      "\n",
      "cv=9\n",
      "[0.96067416 0.96067416 0.96067416 0.96067416 0.96067416 0.94382022\n",
      " 0.96045198 0.96045198 0.96045198]\n",
      "\n",
      "cv=10\n",
      "[0.9625     0.9625     0.9625     0.9625     0.9625     0.95\n",
      " 0.94375    0.95625    0.95625    0.96226415]\n",
      "\n"
     ]
    }
   ],
   "source": [
    "for i in range(4, 11):\n",
    "    print(f\"cv={i}\")\n",
    "    print(cross_val_score(kmodel, X, y, cv=i))\n",
    "    print()"
   ]
  },
  {
   "cell_type": "markdown",
   "id": "d4c925b7-4e78-4f72-bafb-8b28a24c9b71",
   "metadata": {},
   "source": [
    "Although this model yields strong results, as stated before it doesn't scale well. The reason comes down to the prediction phase, which grows larger when the dataset grows larger. Given this, the next model used wil be Decision Trees.\n",
    "\n",
    "### Decision Trees\n",
    "\n",
    "Decision Trees are model-based predictors. This means the fitting stage is far more work, but predictting is far faster. The Decision Tree is a greedy algorithm that makes chooses paths that result in the most Information Gain. This statistic is calculated based off entropy - or something entropy adjecent. After all these choices are made, the result is a tree of nested choices that result in classification. Decision Trees are infamous for overfitting, given their nature.\n",
    "\n",
    "To address this overfitting, I played with the `max_depth` hyperparameter, testing a range of 1-10. This parameter was chosen over others as it forces a hard stop to the tree. "
   ]
  },
  {
   "cell_type": "code",
   "execution_count": 58,
   "id": "97e48d68-2733-456b-b212-4f7a395625d6",
   "metadata": {},
   "outputs": [
    {
     "name": "stdout",
     "output_type": "stream",
     "text": [
      "max_depth=1\n",
      "[[  0  15]\n",
      " [  0 385]]\n",
      "\n",
      "max_depth=2\n",
      "[[  0  15]\n",
      " [  1 384]]\n",
      "\n",
      "max_depth=3\n",
      "[[  2  13]\n",
      " [  8 377]]\n",
      "\n",
      "max_depth=4\n",
      "[[  1  14]\n",
      " [  4 381]]\n",
      "\n",
      "max_depth=5\n",
      "[[  1  14]\n",
      " [  3 382]]\n",
      "\n",
      "max_depth=6\n",
      "[[  1  14]\n",
      " [  3 382]]\n",
      "\n",
      "max_depth=7\n",
      "[[  2  13]\n",
      " [  8 377]]\n",
      "\n",
      "max_depth=8\n",
      "[[  2  13]\n",
      " [ 11 374]]\n",
      "\n",
      "max_depth=9\n",
      "[[  1  14]\n",
      " [  7 378]]\n",
      "\n",
      "max_depth=10\n",
      "[[  2  13]\n",
      " [  7 378]]\n",
      "\n"
     ]
    }
   ],
   "source": [
    "for i in range(1, 11):\n",
    "    dt_model = DecisionTreeClassifier(max_depth=i)\n",
    "    dt_model.fit(X_train, y_train)\n",
    "    y_pred = dt_model.predict(X_test)\n",
    "    print(f\"max_depth={i}\")\n",
    "    print(confusion_matrix(y_test, y_pred))\n",
    "    print()"
   ]
  },
  {
   "cell_type": "markdown",
   "id": "a874da50-f4b1-4b89-939d-9433da52faa6",
   "metadata": {},
   "source": [
    "The above results show `max_depth = 5` to be the strongest model. This choice was made to have plenty of depth to allow for actual choice, but to optimize for recall, as it has the smallest of those greater than 2. I did not chose `max_depth = 1` or `max_depth = 2`, as those aren't full trees. The results weren't as strong as before for testing, but I prefere the decision tree to K-Nearest Neighbors due to the scaling factor.\n",
    "\n",
    "The aformentioned metrics are again used here, showing that the optimization for recall wasn't as strong as compared to the previous model."
   ]
  },
  {
   "cell_type": "code",
   "execution_count": 59,
   "id": "d4e411e5-69b9-4c74-aa28-7d9d1ec090f1",
   "metadata": {},
   "outputs": [
    {
     "name": "stdout",
     "output_type": "stream",
     "text": [
      "Accuracy: 0.9575\n",
      "Metrics for Class = 1 (Good)\n",
      "    Precision: 0.9646464646464646\n",
      "    Recall: 0.9922077922077922\n",
      "    F1-Score: 0.9782330345710627\n",
      "----------------------------\n",
      "Metrics for Class = 0 (Bad)\n",
      "    Precision: 0.25\n",
      "    Recall: 0.06666666666666667\n",
      "    F0-Score: 0.10526315789473685\n",
      "\n",
      "cv=4\n",
      "[0.95       0.95       0.9475     0.94736842]\n",
      "\n",
      "cv=5\n",
      "[0.953125   0.959375   0.91875    0.953125   0.94043887]\n",
      "\n",
      "cv=6\n",
      "[0.94007491 0.96254682 0.91011236 0.92481203 0.95864662 0.93609023]\n",
      "\n",
      "cv=7\n",
      "[0.94323144 0.96069869 0.95633188 0.91666667 0.92982456 0.95614035\n",
      " 0.93421053]\n",
      "\n",
      "cv=8\n",
      "[0.935      0.96       0.955      0.89       0.955      0.945\n",
      " 0.96       0.96482412]\n",
      "\n",
      "cv=9\n",
      "[0.92134831 0.96067416 0.9494382  0.95505618 0.9494382  0.90449438\n",
      " 0.96045198 0.95480226 0.96045198]\n",
      "\n",
      "cv=10\n",
      "[0.90625    0.9625     0.9625     0.95625    0.90625    0.96875\n",
      " 0.9125     0.95625    0.95       0.94339623]\n",
      "\n"
     ]
    }
   ],
   "source": [
    "dt_model = DecisionTreeClassifier(max_depth=5).fit(X_train, y_train)\n",
    "y_pred = dt_model.predict(X_test)\n",
    "\n",
    "accuracy = accuracy_score(y_test, y_pred)\n",
    "precision1 = precision_score(y_test, y_pred)\n",
    "recall1 = recall_score(y_test, y_pred)\n",
    "f1_score1 = f1_score(y_test, y_pred)\n",
    "\n",
    "precision0 = precision_score(y_test, y_pred, pos_label=0)\n",
    "recall0 = recall_score(y_test, y_pred, pos_label=0)\n",
    "f1_score0 = f1_score(y_test, y_pred, pos_label=0)\n",
    "\n",
    "print(f\"Accuracy: {accuracy}\")\n",
    "print(\"Metrics for Class = 1 (Good)\")\n",
    "print(f\"    Precision: {precision1}\")\n",
    "print(f\"    Recall: {recall1}\")\n",
    "print(f\"    F1-Score: {f1_score1}\")\n",
    "print(\"----------------------------\")\n",
    "print(\"Metrics for Class = 0 (Bad)\")\n",
    "print(f\"    Precision: {precision0}\")\n",
    "print(f\"    Recall: {recall0}\")\n",
    "print(f\"    F0-Score: {f1_score0}\")\n",
    "print()\n",
    "\n",
    "for i in range(4, 11):\n",
    "    print(f\"cv={i}\")\n",
    "    print(cross_val_score(dt_model, X, y, cv=i))\n",
    "    print()"
   ]
  },
  {
   "cell_type": "markdown",
   "id": "e764f43c-6ce7-4bd4-9e6f-b95d73822648",
   "metadata": {},
   "source": [
    "The metrics show a model designed for recall. As seen in the 0 - or \"bad\" - case, the model wasn't strong at identifing bad wine. It followed the purpose of discovering good wine for more. This is an inherent result of a Decision Tree, as it was trained and fitted for that. To overcome some of these issues, and to provide potentially the best algorithm for classification, the last model is Random Forest.\n",
    "\n",
    "### Random Forests \n",
    "\n",
    "A Random Forest is simply a collection of Decision Trees, meaning more are tested and overfitting is better addressed. This model is by far the slowest to fit, but is just as fast as Decision Trees in predicting. In regards to hyperparameter tuning, I did the same as Decision Trees. I see Random Forest as a better version of Decision Trees, and as such I didn't feel a need to adjust what I was doing in the previous version."
   ]
  },
  {
   "cell_type": "code",
   "execution_count": 60,
   "id": "98efb42d-5599-4445-8de3-9ef15b1bf0a2",
   "metadata": {},
   "outputs": [
    {
     "name": "stdout",
     "output_type": "stream",
     "text": [
      "max_depth=1\n",
      "[[  0  15]\n",
      " [  0 385]]\n",
      "\n",
      "max_depth=2\n",
      "[[  0  15]\n",
      " [  0 385]]\n",
      "\n",
      "max_depth=3\n",
      "[[  0  15]\n",
      " [  0 385]]\n",
      "\n",
      "max_depth=4\n",
      "[[  0  15]\n",
      " [  0 385]]\n",
      "\n",
      "max_depth=5\n",
      "[[  0  15]\n",
      " [  0 385]]\n",
      "\n",
      "max_depth=6\n",
      "[[  1  14]\n",
      " [  0 385]]\n",
      "\n",
      "max_depth=7\n",
      "[[  1  14]\n",
      " [  1 384]]\n",
      "\n",
      "max_depth=8\n",
      "[[  0  15]\n",
      " [  0 385]]\n",
      "\n",
      "max_depth=9\n",
      "[[  0  15]\n",
      " [  0 385]]\n",
      "\n",
      "max_depth=10\n",
      "[[  0  15]\n",
      " [  0 385]]\n",
      "\n"
     ]
    }
   ],
   "source": [
    "for i in range(1, 11):\n",
    "    rf_model = RandomForestClassifier(max_depth=i)\n",
    "    rf_model.fit(X_train, y_train)\n",
    "    y_pred = rf_model.predict(X_test)\n",
    "    print(f\"max_depth={i}\")\n",
    "    print(confusion_matrix(y_test, y_pred))\n",
    "    print()"
   ]
  },
  {
   "cell_type": "markdown",
   "id": "14d1e560-5c2a-4616-8b8e-c637317d39d7",
   "metadata": {},
   "source": [
    "From this we can see that a `max_depth = 8` yields a strong model. This is different than Decision Trees and part of that is a result of what happens with Random Forest. This particular model also yielded the most True Positives.\n",
    "\n",
    "Using the usual metrics, we see the following results:"
   ]
  },
  {
   "cell_type": "code",
   "execution_count": 67,
   "id": "563b784f-c41f-4d83-95b7-067f75fef237",
   "metadata": {},
   "outputs": [
    {
     "name": "stdout",
     "output_type": "stream",
     "text": [
      "Accuracy: 0.965\n",
      "Metrics for Class = 1 (Good)\n",
      "    Precision: 0.9649122807017544\n",
      "    Recall: 1.0\n",
      "    F1-Score: 0.9821428571428572\n",
      "----------------------------\n",
      "Metrics for Class = 0 (Bad)\n",
      "    Precision: 1.0\n",
      "    Recall: 0.06666666666666667\n",
      "    F1-Score: 0.125\n",
      "\n",
      "cv=4\n",
      "[0.955      0.9575     0.9575     0.96240602]\n",
      "\n",
      "cv=5\n",
      "[0.95625    0.959375   0.959375   0.959375   0.96238245]\n",
      "\n",
      "cv=6\n",
      "[0.95131086 0.9588015  0.9588015  0.96240602 0.96616541 0.96240602]\n",
      "\n",
      "cv=7\n",
      "[0.94759825 0.96069869 0.95633188 0.96491228 0.96052632 0.96052632\n",
      " 0.96052632]\n",
      "\n",
      "cv=8\n",
      "[0.95       0.965      0.96       0.965      0.96       0.96\n",
      " 0.965      0.96482412]\n",
      "\n",
      "cv=9\n",
      "[0.94382022 0.96067416 0.96067416 0.96067416 0.96067416 0.96067416\n",
      " 0.96045198 0.96045198 0.96045198]\n",
      "\n",
      "cv=10\n",
      "[0.95       0.96875    0.9625     0.9625     0.95625    0.9625\n",
      " 0.95625    0.95625    0.95625    0.96226415]\n",
      "\n"
     ]
    }
   ],
   "source": [
    "rf_model = RandomForestClassifier(max_depth=8).fit(X_train, y_train)\n",
    "y_pred = rf_model.predict(X_test)\n",
    "\n",
    "accuracy = accuracy_score(y_test, y_pred)\n",
    "precision1 = precision_score(y_test, y_pred)\n",
    "recall1 = recall_score(y_test, y_pred)\n",
    "f1_score1 = f1_score(y_test, y_pred)\n",
    "\n",
    "precision0 = precision_score(y_test, y_pred, pos_label=0, zero_division=1)\n",
    "recall0 = recall_score(y_test, y_pred, pos_label=0)\n",
    "f1_score0 = f1_score(y_test, y_pred, pos_label=0)\n",
    "\n",
    "print(f\"Accuracy: {accuracy}\")\n",
    "print(\"Metrics for Class = 1 (Good)\")\n",
    "print(f\"    Precision: {precision1}\")\n",
    "print(f\"    Recall: {recall1}\")\n",
    "print(f\"    F1-Score: {f1_score1}\")\n",
    "print(\"----------------------------\")\n",
    "print(\"Metrics for Class = 0 (Bad)\")\n",
    "print(f\"    Precision: {precision0}\")\n",
    "print(f\"    Recall: {recall0}\")\n",
    "print(f\"    F1-Score: {f1_score0}\")\n",
    "print()\n",
    "\n",
    "for i in range(4, 11):\n",
    "    print(f\"cv={i}\")\n",
    "    print(cross_val_score(rf_model, X, y, cv=i))\n",
    "    print()"
   ]
  },
  {
   "cell_type": "markdown",
   "id": "c028998c-08b8-4003-98d4-5ce3f9dc548f",
   "metadata": {},
   "source": [
    "These results show a model that competes well with K-Nearest Neighbors, but scales far more. Random Forest has all the benefits of Decision Trees, but addresses many of the drawbacks. Given this, and the fact is scales better, I recommend this model. \n",
    "\n",
    "## Conclusion\n",
    "\n",
    "All of the models did well with the training and test sets, and all of them had high Cross Validation Scores and high Recall scores. However, I would recommend Random Forest due to scaling, and overfitting. K-Nearest Neighbors has all of the processing in the predict phase, which scales with the amount of data objects. This isn't ideal as it results in exceptionally slow predictions on mediore sized datasets. Decision Trees are prone to overfitting, however are far better in the prediction phase. Random Forest has these benefits, but address these overfitting problems. The model showed great results, as seen in its statistics section, but is also designed to scale better against larger datasets. \n",
    "\n",
    "## References\n",
    "Savits, J. (2019, April 26). Sulfur Dioxide Measurement and Overestimation in Red Wine. Midwest Grape and Wine Industry Institute. https://www.extension.iastate.edu/wine/sulfur-dioxide-measurement-and-overestimation-red-wine/\n",
    "Zoecklein, B. (2011, June 29). Enology Notes #158. Wine / Enology Grape Chemistry Group. https://www.apps.fst.vt.edu/extension/enology/EN/158.html#2\n"
   ]
  }
 ],
 "metadata": {
  "kernelspec": {
   "display_name": "Python 3 (ipykernel)",
   "language": "python",
   "name": "python3"
  },
  "language_info": {
   "codemirror_mode": {
    "name": "ipython",
    "version": 3
   },
   "file_extension": ".py",
   "mimetype": "text/x-python",
   "name": "python",
   "nbconvert_exporter": "python",
   "pygments_lexer": "ipython3",
   "version": "3.10.2"
  }
 },
 "nbformat": 4,
 "nbformat_minor": 5
}
