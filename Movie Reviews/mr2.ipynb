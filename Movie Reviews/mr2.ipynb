{
 "cells": [
  {
   "cell_type": "markdown",
   "id": "a9777497-af64-438a-b67c-9d794f2c43c1",
   "metadata": {},
   "source": [
    "# Movie Review Classifer\n",
    "\n",
    "Ian Kollipara\n",
    "\n",
    "2022.03.27\n",
    "\n",
    "CS 392 Seminar in Data Science\n",
    "\n",
    "## Importing Packages"
   ]
  },
  {
   "cell_type": "code",
   "execution_count": 36,
   "id": "f0b472dc-9186-46c9-a647-b24a2d3bfc55",
   "metadata": {},
   "outputs": [
    {
     "name": "stderr",
     "output_type": "stream",
     "text": [
      "[nltk_data] Downloading package wordnet to\n",
      "[nltk_data]     /home/ikollipara/nltk_data...\n",
      "[nltk_data]   Package wordnet is already up-to-date!\n",
      "[nltk_data] Downloading package punkt to /home/ikollipara/nltk_data...\n",
      "[nltk_data]   Package punkt is already up-to-date!\n",
      "[nltk_data] Downloading package omw-1.4 to\n",
      "[nltk_data]     /home/ikollipara/nltk_data...\n",
      "[nltk_data]   Package omw-1.4 is already up-to-date!\n"
     ]
    }
   ],
   "source": [
    "import re\n",
    "import numpy as np\n",
    "import pandas as pd\n",
    "import seaborn as sns\n",
    "import matplotlib.pyplot as plt\n",
    "plt.style.use(\"ggplot\")\n",
    "import nltk\n",
    "nltk.download(\"wordnet\")\n",
    "nltk.download(\"punkt\")\n",
    "nltk.download(\"omw-1.4\")\n",
    "from nltk.stem import WordNetLemmatizer\n",
    "from wordcloud import WordCloud\n",
    "\n",
    "from sklearn.experimental import enable_halving_search_cv\n",
    "from sklearn.pipeline import Pipeline\n",
    "from sklearn.metrics import classification_report, confusion_matrix, roc_auc_score, make_scorer\n",
    "from sklearn.feature_extraction.text import CountVectorizer\n",
    "from sklearn.naive_bayes import BernoulliNB, MultinomialNB\n",
    "from sklearn.model_selection import HalvingGridSearchCV, GridSearchCV, train_test_split, cross_val_score"
   ]
  },
  {
   "cell_type": "markdown",
   "id": "09284be6-715b-4f3d-a03c-d26011591b4f",
   "metadata": {},
   "source": [
    "## Preprocessing\n",
    "### Data Exploration"
   ]
  },
  {
   "cell_type": "code",
   "execution_count": 2,
   "id": "53be47b0-e83e-4d52-800c-d38051b9d49d",
   "metadata": {},
   "outputs": [
    {
     "name": "stdout",
     "output_type": "stream",
     "text": [
      "(40000, 2)\n"
     ]
    },
    {
     "data": {
      "text/html": [
       "<div>\n",
       "<style scoped>\n",
       "    .dataframe tbody tr th:only-of-type {\n",
       "        vertical-align: middle;\n",
       "    }\n",
       "\n",
       "    .dataframe tbody tr th {\n",
       "        vertical-align: top;\n",
       "    }\n",
       "\n",
       "    .dataframe thead th {\n",
       "        text-align: right;\n",
       "    }\n",
       "</style>\n",
       "<table border=\"1\" class=\"dataframe\">\n",
       "  <thead>\n",
       "    <tr style=\"text-align: right;\">\n",
       "      <th></th>\n",
       "      <th>text</th>\n",
       "      <th>label</th>\n",
       "    </tr>\n",
       "  </thead>\n",
       "  <tbody>\n",
       "    <tr>\n",
       "      <th>0</th>\n",
       "      <td>I grew up (b. 1965) watching and loving the Th...</td>\n",
       "      <td>0</td>\n",
       "    </tr>\n",
       "    <tr>\n",
       "      <th>1</th>\n",
       "      <td>When I put this movie in my DVD player, and sa...</td>\n",
       "      <td>0</td>\n",
       "    </tr>\n",
       "    <tr>\n",
       "      <th>2</th>\n",
       "      <td>Why do people who do not know what a particula...</td>\n",
       "      <td>0</td>\n",
       "    </tr>\n",
       "    <tr>\n",
       "      <th>3</th>\n",
       "      <td>Even though I have great interest in Biblical ...</td>\n",
       "      <td>0</td>\n",
       "    </tr>\n",
       "    <tr>\n",
       "      <th>4</th>\n",
       "      <td>Im a die hard Dads Army fan and nothing will e...</td>\n",
       "      <td>1</td>\n",
       "    </tr>\n",
       "  </tbody>\n",
       "</table>\n",
       "</div>"
      ],
      "text/plain": [
       "                                                text  label\n",
       "0  I grew up (b. 1965) watching and loving the Th...      0\n",
       "1  When I put this movie in my DVD player, and sa...      0\n",
       "2  Why do people who do not know what a particula...      0\n",
       "3  Even though I have great interest in Biblical ...      0\n",
       "4  Im a die hard Dads Army fan and nothing will e...      1"
      ]
     },
     "execution_count": 2,
     "metadata": {},
     "output_type": "execute_result"
    }
   ],
   "source": [
    "df = pd.read_csv(\"movie.csv\")\n",
    "print(df.shape)\n",
    "df.head(5)"
   ]
  },
  {
   "cell_type": "markdown",
   "id": "f70aa84d-db50-4ef9-a555-655b13814531",
   "metadata": {},
   "source": [
    "This dataset is of movie reviews, with the goal of classifying reviews as positive or negative, given the review. Our dataset here contains 40,000 reviews - noted as the column `text` - as well as the type of review: Positive (1) or Negative (0) - denoted `label`. A good addition is a third column, length. This is the length of the text."
   ]
  },
  {
   "cell_type": "code",
   "execution_count": 3,
   "id": "75ffb7fd-0a22-4d14-8586-b812350ead73",
   "metadata": {},
   "outputs": [],
   "source": [
    "df['length'] = df['text'].map(lambda text: len(text))"
   ]
  },
  {
   "cell_type": "markdown",
   "id": "07903587-ed37-429d-a311-a81e3f99d991",
   "metadata": {},
   "source": [
    "From here we can visualize the distribution of Negative and Positive Reviews."
   ]
  },
  {
   "cell_type": "code",
   "execution_count": 4,
   "id": "7c96ce5a-0157-48bd-a7be-6665716cef28",
   "metadata": {},
   "outputs": [
    {
     "data": {
      "text/plain": [
       "Text(0.5, 0, 'Classification')"
      ]
     },
     "execution_count": 4,
     "metadata": {},
     "output_type": "execute_result"
    },
    {
     "data": {
      "image/png": "[encoded data removed]",
      "text/plain": [
       "<Figure size 576x432 with 1 Axes>"
      ]
     },
     "metadata": {},
     "output_type": "display_data"
    }
   ],
   "source": [
    "values = df[\"label\"].value_counts().values\n",
    "plt.figure(figsize=(8, 6))\n",
    "sns.barplot(x=[\"Negative\", \"Positive\"], y=values, alpha=0.9)\n",
    "\n",
    "plt.title(\"Distribution of Positive vs. Negative Reviews\")\n",
    "plt.ylabel(\"Count\")\n",
    "plt.xlabel(\"Classification\")"
   ]
  },
  {
   "cell_type": "code",
   "execution_count": 5,
   "id": "e048e936-d542-4463-a61b-cb36ca5ec6a4",
   "metadata": {},
   "outputs": [
    {
     "data": {
      "text/html": [
       "<div>\n",
       "<style scoped>\n",
       "    .dataframe tbody tr th:only-of-type {\n",
       "        vertical-align: middle;\n",
       "    }\n",
       "\n",
       "    .dataframe tbody tr th {\n",
       "        vertical-align: top;\n",
       "    }\n",
       "\n",
       "    .dataframe thead th {\n",
       "        text-align: right;\n",
       "    }\n",
       "</style>\n",
       "<table border=\"1\" class=\"dataframe\">\n",
       "  <thead>\n",
       "    <tr style=\"text-align: right;\">\n",
       "      <th></th>\n",
       "      <th>text</th>\n",
       "      <th>length</th>\n",
       "    </tr>\n",
       "    <tr>\n",
       "      <th>label</th>\n",
       "      <th></th>\n",
       "      <th></th>\n",
       "    </tr>\n",
       "  </thead>\n",
       "  <tbody>\n",
       "    <tr>\n",
       "      <th>0</th>\n",
       "      <td>20019</td>\n",
       "      <td>20019</td>\n",
       "    </tr>\n",
       "    <tr>\n",
       "      <th>1</th>\n",
       "      <td>19981</td>\n",
       "      <td>19981</td>\n",
       "    </tr>\n",
       "  </tbody>\n",
       "</table>\n",
       "</div>"
      ],
      "text/plain": [
       "        text  length\n",
       "label               \n",
       "0      20019   20019\n",
       "1      19981   19981"
      ]
     },
     "execution_count": 5,
     "metadata": {},
     "output_type": "execute_result"
    }
   ],
   "source": [
    "df.groupby(\"label\").count()"
   ]
  },
  {
   "cell_type": "markdown",
   "id": "1e4b6819-f7de-4dff-a3a2-6478fc138f7c",
   "metadata": {},
   "source": [
    "Our distribution is roughly equal, with ~20,000 in each. This makes for great data in terms of analysis, as there isn't any lopsided-ness to it. Next, we can investigate the metrics associated with the length of the text."
   ]
  },
  {
   "cell_type": "code",
   "execution_count": 6,
   "id": "6177314c-9c7b-411d-90bc-2a741b845f07",
   "metadata": {},
   "outputs": [
    {
     "data": {
      "text/html": [
       "<div>\n",
       "<style scoped>\n",
       "    .dataframe tbody tr th:only-of-type {\n",
       "        vertical-align: middle;\n",
       "    }\n",
       "\n",
       "    .dataframe tbody tr th {\n",
       "        vertical-align: top;\n",
       "    }\n",
       "\n",
       "    .dataframe thead th {\n",
       "        text-align: right;\n",
       "    }\n",
       "</style>\n",
       "<table border=\"1\" class=\"dataframe\">\n",
       "  <thead>\n",
       "    <tr style=\"text-align: right;\">\n",
       "      <th></th>\n",
       "      <th>count</th>\n",
       "      <th>mean</th>\n",
       "      <th>std</th>\n",
       "      <th>min</th>\n",
       "      <th>25%</th>\n",
       "      <th>50%</th>\n",
       "      <th>75%</th>\n",
       "      <th>max</th>\n",
       "    </tr>\n",
       "    <tr>\n",
       "      <th>label</th>\n",
       "      <th></th>\n",
       "      <th></th>\n",
       "      <th></th>\n",
       "      <th></th>\n",
       "      <th></th>\n",
       "      <th></th>\n",
       "      <th></th>\n",
       "      <th></th>\n",
       "    </tr>\n",
       "  </thead>\n",
       "  <tbody>\n",
       "    <tr>\n",
       "      <th>0</th>\n",
       "      <td>20019.0</td>\n",
       "      <td>1292.536990</td>\n",
       "      <td>942.220087</td>\n",
       "      <td>32.0</td>\n",
       "      <td>705.0</td>\n",
       "      <td>973.0</td>\n",
       "      <td>1571.0</td>\n",
       "      <td>8969.0</td>\n",
       "    </tr>\n",
       "    <tr>\n",
       "      <th>1</th>\n",
       "      <td>19981.0</td>\n",
       "      <td>1328.083279</td>\n",
       "      <td>1032.236721</td>\n",
       "      <td>65.0</td>\n",
       "      <td>690.0</td>\n",
       "      <td>972.0</td>\n",
       "      <td>1621.0</td>\n",
       "      <td>13704.0</td>\n",
       "    </tr>\n",
       "  </tbody>\n",
       "</table>\n",
       "</div>"
      ],
      "text/plain": [
       "         count         mean          std   min    25%    50%     75%      max\n",
       "label                                                                        \n",
       "0      20019.0  1292.536990   942.220087  32.0  705.0  973.0  1571.0   8969.0\n",
       "1      19981.0  1328.083279  1032.236721  65.0  690.0  972.0  1621.0  13704.0"
      ]
     },
     "execution_count": 6,
     "metadata": {},
     "output_type": "execute_result"
    }
   ],
   "source": [
    "df.groupby(\"label\")[\"length\"].describe()"
   ]
  },
  {
   "cell_type": "markdown",
   "id": "b9dea9e9-5fa2-4c04-a4e3-0631001b1853",
   "metadata": {},
   "source": [
    "From here, we can see most reviews are in the range of ~300 to ~2,300 words. However, both have reviews that are far past this. Given this, we can analyze the distribution of length in relation to the classification of the reviews."
   ]
  },
  {
   "cell_type": "code",
   "execution_count": 7,
   "id": "9714eb13-3872-457b-846c-9c4c46d83c3a",
   "metadata": {},
   "outputs": [
    {
     "data": {
      "text/plain": [
       "array([<AxesSubplot:title={'center':'0'}>,\n",
       "       <AxesSubplot:title={'center':'1'}>], dtype=object)"
      ]
     },
     "execution_count": 7,
     "metadata": {},
     "output_type": "execute_result"
    },
    {
     "data": {
      "image/png": "[encoded data removed]",
      "text/plain": [
       "<Figure size 864x432 with 2 Axes>"
      ]
     },
     "metadata": {},
     "output_type": "display_data"
    }
   ],
   "source": [
    "threshold = 2300\n",
    "df[df[\"length\"] < threshold].hist(\"length\", by=\"label\", bins=500, figsize=(12, 6))"
   ]
  },
  {
   "cell_type": "markdown",
   "id": "efeb7261-f388-4067-a3cb-22e523cbfe12",
   "metadata": {},
   "source": [
    "From this, we can see a majority of the reviews, both for positive and negative, lie with in the range 500 to 1250. We can zoom in more, but what I want to see is the correlation between long reviews and their classification."
   ]
  },
  {
   "cell_type": "code",
   "execution_count": 8,
   "id": "a564b669-ddaa-4556-b30e-768d6a67afd3",
   "metadata": {},
   "outputs": [
    {
     "data": {
      "text/html": [
       "<div>\n",
       "<style scoped>\n",
       "    .dataframe tbody tr th:only-of-type {\n",
       "        vertical-align: middle;\n",
       "    }\n",
       "\n",
       "    .dataframe tbody tr th {\n",
       "        vertical-align: top;\n",
       "    }\n",
       "\n",
       "    .dataframe thead th {\n",
       "        text-align: right;\n",
       "    }\n",
       "</style>\n",
       "<table border=\"1\" class=\"dataframe\">\n",
       "  <thead>\n",
       "    <tr style=\"text-align: right;\">\n",
       "      <th></th>\n",
       "      <th>text</th>\n",
       "      <th>length</th>\n",
       "    </tr>\n",
       "    <tr>\n",
       "      <th>label</th>\n",
       "      <th></th>\n",
       "      <th></th>\n",
       "    </tr>\n",
       "  </thead>\n",
       "  <tbody>\n",
       "    <tr>\n",
       "      <th>0</th>\n",
       "      <td>2398</td>\n",
       "      <td>2398</td>\n",
       "    </tr>\n",
       "    <tr>\n",
       "      <th>1</th>\n",
       "      <td>2739</td>\n",
       "      <td>2739</td>\n",
       "    </tr>\n",
       "  </tbody>\n",
       "</table>\n",
       "</div>"
      ],
      "text/plain": [
       "       text  length\n",
       "label              \n",
       "0      2398    2398\n",
       "1      2739    2739"
      ]
     },
     "execution_count": 8,
     "metadata": {},
     "output_type": "execute_result"
    },
    {
     "data": {
      "image/png": "[encoded data removed]",
      "text/plain": [
       "<Figure size 576x432 with 1 Axes>"
      ]
     },
     "metadata": {},
     "output_type": "display_data"
    }
   ],
   "source": [
    "plt.figure(figsize=(8, 6))\n",
    "sns.stripplot(y=\"length\", x=\"label\", data=df[df[\"length\"] > threshold])\n",
    "plt.title(\"Comparison of long length reviews and their classification\")\n",
    "plt.xlabel(\"Classification\")\n",
    "df[df[\"length\"] > threshold].groupby(\"label\").count()"
   ]
  },
  {
   "cell_type": "markdown",
   "id": "2aa56475-3cc0-4fd0-b594-54a79c461425",
   "metadata": {},
   "source": [
    "It appears that, by a small margin, longer reviews are positive. We can analyze the correlation as well."
   ]
  },
  {
   "cell_type": "code",
   "execution_count": 9,
   "id": "eda2775f-c757-48ba-93a3-28f336deafe9",
   "metadata": {},
   "outputs": [
    {
     "name": "stdout",
     "output_type": "stream",
     "text": [
      "           label    length\n",
      "label   1.000000  0.044712\n",
      "length  0.044712  1.000000\n",
      "\n",
      "           label    length\n",
      "label   1.000000  0.044789\n",
      "length  0.044789  1.000000\n"
     ]
    }
   ],
   "source": [
    "print(df[df[\"length\"] > threshold].corr())\n",
    "print()\n",
    "print(df[df[\"length\"] > threshold].corr(\"spearman\"))"
   ]
  },
  {
   "cell_type": "markdown",
   "id": "fc9145be-e70f-4a52-857b-ec429d3ae8a7",
   "metadata": {},
   "source": [
    "As I thought, longer length reviews are somewhat positively correlated with Positive Classification (1). \n",
    "\n",
    "### Feature Extraction\n",
    "#### Removing Punctuation\n",
    "\n",
    "A key piece to remove from the document before running it through a Lemmatizer and Stop Word Remover, is the removal of punctuation. These marks hold no meaning in terms of classification. Thus it makes sense to remove them. I chose to do this before the lemmatizer as - seen through experiementation - punctuation can cause words that are not real to appear, such as \"wa n't\" instead of \"wasnt\"."
   ]
  },
  {
   "cell_type": "code",
   "execution_count": 10,
   "id": "becf1d8d-5929-48b5-842d-074c4524df1b",
   "metadata": {},
   "outputs": [
    {
     "data": {
      "text/html": [
       "<div>\n",
       "<style scoped>\n",
       "    .dataframe tbody tr th:only-of-type {\n",
       "        vertical-align: middle;\n",
       "    }\n",
       "\n",
       "    .dataframe tbody tr th {\n",
       "        vertical-align: top;\n",
       "    }\n",
       "\n",
       "    .dataframe thead th {\n",
       "        text-align: right;\n",
       "    }\n",
       "</style>\n",
       "<table border=\"1\" class=\"dataframe\">\n",
       "  <thead>\n",
       "    <tr style=\"text-align: right;\">\n",
       "      <th></th>\n",
       "      <th>text</th>\n",
       "      <th>label</th>\n",
       "      <th>length</th>\n",
       "    </tr>\n",
       "  </thead>\n",
       "  <tbody>\n",
       "    <tr>\n",
       "      <th>0</th>\n",
       "      <td>I grew up  b        watching and loving the Th...</td>\n",
       "      <td>0</td>\n",
       "      <td>874</td>\n",
       "    </tr>\n",
       "    <tr>\n",
       "      <th>1</th>\n",
       "      <td>When I put this movie in my DVD player  and sa...</td>\n",
       "      <td>0</td>\n",
       "      <td>1811</td>\n",
       "    </tr>\n",
       "    <tr>\n",
       "      <th>2</th>\n",
       "      <td>Why do people who do not know what a particula...</td>\n",
       "      <td>0</td>\n",
       "      <td>983</td>\n",
       "    </tr>\n",
       "    <tr>\n",
       "      <th>3</th>\n",
       "      <td>Even though I have great interest in Biblical ...</td>\n",
       "      <td>0</td>\n",
       "      <td>351</td>\n",
       "    </tr>\n",
       "    <tr>\n",
       "      <th>4</th>\n",
       "      <td>Im a die hard Dads Army fan and nothing will e...</td>\n",
       "      <td>1</td>\n",
       "      <td>983</td>\n",
       "    </tr>\n",
       "    <tr>\n",
       "      <th>...</th>\n",
       "      <td>...</td>\n",
       "      <td>...</td>\n",
       "      <td>...</td>\n",
       "    </tr>\n",
       "    <tr>\n",
       "      <th>39995</th>\n",
       "      <td>Western Union  is something of a forgotten cl...</td>\n",
       "      <td>1</td>\n",
       "      <td>3111</td>\n",
       "    </tr>\n",
       "    <tr>\n",
       "      <th>39996</th>\n",
       "      <td>This movie is an incredible piece of work  It ...</td>\n",
       "      <td>1</td>\n",
       "      <td>291</td>\n",
       "    </tr>\n",
       "    <tr>\n",
       "      <th>39997</th>\n",
       "      <td>My wife and I watched this movie because we pl...</td>\n",
       "      <td>0</td>\n",
       "      <td>1092</td>\n",
       "    </tr>\n",
       "    <tr>\n",
       "      <th>39998</th>\n",
       "      <td>When I first watched Flatliners  I was amazed ...</td>\n",
       "      <td>1</td>\n",
       "      <td>1045</td>\n",
       "    </tr>\n",
       "    <tr>\n",
       "      <th>39999</th>\n",
       "      <td>Why would this film be so good  but only gross...</td>\n",
       "      <td>1</td>\n",
       "      <td>727</td>\n",
       "    </tr>\n",
       "  </tbody>\n",
       "</table>\n",
       "<p>40000 rows × 3 columns</p>\n",
       "</div>"
      ],
      "text/plain": [
       "                                                    text  label  length\n",
       "0      I grew up  b        watching and loving the Th...      0     874\n",
       "1      When I put this movie in my DVD player  and sa...      0    1811\n",
       "2      Why do people who do not know what a particula...      0     983\n",
       "3      Even though I have great interest in Biblical ...      0     351\n",
       "4      Im a die hard Dads Army fan and nothing will e...      1     983\n",
       "...                                                  ...    ...     ...\n",
       "39995   Western Union  is something of a forgotten cl...      1    3111\n",
       "39996  This movie is an incredible piece of work  It ...      1     291\n",
       "39997  My wife and I watched this movie because we pl...      0    1092\n",
       "39998  When I first watched Flatliners  I was amazed ...      1    1045\n",
       "39999  Why would this film be so good  but only gross...      1     727\n",
       "\n",
       "[40000 rows x 3 columns]"
      ]
     },
     "execution_count": 10,
     "metadata": {},
     "output_type": "execute_result"
    }
   ],
   "source": [
    "# sourced from https://www.geeksforgeeks.org/python-remove-punctuation-from-string/\n",
    "\n",
    "df['text'] = df['text'].apply(lambda text: re.sub(r'[^\\w\\s]|\\d', ' ', text))\n",
    "df"
   ]
  },
  {
   "cell_type": "markdown",
   "id": "d50df67e-0849-403c-952d-c588b622d3a0",
   "metadata": {},
   "source": [
    "#### Lemmatizing\n",
    "\n",
    "The first step in preprocessing this dataframe is stemming the words. This is accomplished through a few different means. the way I chose is to do lemmatization. The main goal of this is to break a word down to its root. This process is vital, as it limits our features by removing plurals and such. \n",
    "\n",
    "The lemmatizer I chose comes from [Princeton's WordNet](https://wordnet.princeton.edu/). It does a wonderful job of lemmatizing synonyms as it tries to detect them. "
   ]
  },
  {
   "cell_type": "code",
   "execution_count": 11,
   "id": "bb224264-2023-4aeb-966e-02c878cab0b2",
   "metadata": {},
   "outputs": [],
   "source": [
    "lemmatizer = WordNetLemmatizer()"
   ]
  },
  {
   "cell_type": "code",
   "execution_count": null,
   "id": "d3696766-083c-42ca-933e-d2a7fe451ea7",
   "metadata": {},
   "outputs": [
    {
     "name": "stdout",
     "output_type": "stream",
     "text": [
      "CPU times: user 39.6 s, sys: 64.9 ms, total: 39.6 s\n",
      "Wall time: 39.9 s\n"
     ]
    }
   ],
   "source": [
    "%%time\n",
    "\n",
    "df['lemmatized_text'] = df['text'].map(lambda text: ' '.join(lemmatizer.lemmatize(w) for w in nltk.word_tokenize(text.lower())))"
   ]
  },
  {
   "cell_type": "markdown",
   "id": "9ef5fec9-89ed-4093-95cb-0785e44dccd7",
   "metadata": {},
   "source": [
    "To show this nearly 3 minute process wasn't a complete waste, here is an example review before and after."
   ]
  },
  {
   "cell_type": "code",
   "execution_count": null,
   "id": "6f038f23-5466-4e0d-bdc9-e767a5d22664",
   "metadata": {},
   "outputs": [
    {
     "name": "stdout",
     "output_type": "stream",
     "text": [
      "\n",
      "Before Lemmatization:\n",
      "I have to say although this movie was formulaic throughout with a plot stolen from films like Friday the   th I Know What You Did Last Summer  this movie wasn t that bad  In fact it wasn t as bad as most of the Horror films Hollywood has released recently  The killings although at times a little too imaginative were in most instances just that  original  The cast was mediocre which is to be expected from low budget features but much better than what that much bigger studio Artisan Lions Gate has been offering  My only real complaint that wasn t due to the film s budget  which must have been small  was the contrived  twist  ending  I m sorry but this is what put this film in the bad category for me  The ending was just stupid and tacked on  Before that I was a little bored  but actually enjoying it      \n",
      "\n",
      "After Lemmatization:\n",
      "i have to say although this movie wa formulaic throughout with a plot stolen from film like friday the th i know what you did last summer this movie wasn t that bad in fact it wasn t a bad a most of the horror film hollywood ha released recently the killing although at time a little too imaginative were in most instance just that original the cast wa mediocre which is to be expected from low budget feature but much better than what that much bigger studio artisan lion gate ha been offering my only real complaint that wasn t due to the film s budget which must have been small wa the contrived twist ending i m sorry but this is what put this film in the bad category for me the ending wa just stupid and tacked on before that i wa a little bored but actually enjoying it\n",
      "\n"
     ]
    }
   ],
   "source": [
    "print(f\"\"\"\n",
    "Before Lemmatization:\n",
    "{df['text'][171]}\n",
    "\n",
    "After Lemmatization:\n",
    "{df['lemmatized_text'][171]}\n",
    "\"\"\")"
   ]
  },
  {
   "cell_type": "markdown",
   "id": "5e4cebc8-fade-4d6b-8e75-cb1268d5fa98",
   "metadata": {},
   "source": [
    "From here we can already see a drastic difference in the sentence. The meaning is parsable, but we've broken many words down.\n",
    "#### Stop Word Removal\n",
    "\n",
    "The next step in feature extraction is removing Stop Words. Stop Words are defined as words that hold no meaning in relation to the classifier. In our case, these are words that don't carry a positive or negative value in connection the reviews. I found a list of stop words at https://github.com/rashmishrm/Movie-Reviews-Classification/blob/master/stop-words.txt, and I made a few edits as well. From here we can plug this into a vectorizer, which will remove the stop words."
   ]
  },
  {
   "cell_type": "code",
   "execution_count": 30,
   "id": "6c6e95c4-3f73-4b27-85da-41be0695a22d",
   "metadata": {},
   "outputs": [],
   "source": [
    "with open(\"stop-words.txt\") as f:\n",
    "    stop_words = [lemmatizer.lemmatize(w[:-1]) for w in f]"
   ]
  },
  {
   "cell_type": "markdown",
   "id": "1a16eb0d-8d0f-476f-8e0d-08d402256c93",
   "metadata": {},
   "source": [
    "## Classification\n",
    "### Setting Up the Pipeline\n",
    "#### Creating our Test and Train Set\n",
    "\n",
    "We can create our test-train split on our data from here."
   ]
  },
  {
   "cell_type": "code",
   "execution_count": 31,
   "id": "b12ead9d-5291-4b1d-b48e-74969a9a5b3f",
   "metadata": {},
   "outputs": [],
   "source": [
    "X = np.asarray(df['lemmatized_text'])\n",
    "y = np.asarray(df['label'])\n",
    "\n",
    "X_train, X_test, y_train, y_test = train_test_split(X, y)"
   ]
  },
  {
   "cell_type": "markdown",
   "id": "a8f7c55b-7a69-44fb-9c14-3f89a231fbed",
   "metadata": {},
   "source": [
    "#### Vectorization\n",
    "\n",
    "As the words on their own carry no inherent meaning, a vectorizer is used to determine a numerical value. The two classifiers created here are Binary and Count.\n",
    "\n",
    "Binary Word Vectors are vectors where if the word appeared is tracked, while in Count Vectors the amount - or rather \"count\" - of the word is kept.\n",
    "\n",
    "### Bernoulli Naive Bayes\n",
    "\n",
    "Given all that, we can construct a Pipeline based around the BernoulliNB Algorithm. This algorithm based on the Naive Bayes Assumption assumes all events are independent. Scores are also affected by the lack of a feature. These two traits define a Bernoulli Naive Bayes."
   ]
  },
  {
   "cell_type": "code",
   "execution_count": 32,
   "id": "71677776-d8ca-4d96-ac55-ea9e8fde9b44",
   "metadata": {},
   "outputs": [],
   "source": [
    "bernoulliNB_Binary = Pipeline([\n",
    "    (\"vect\", CountVectorizer()),\n",
    "    (\"clf\", BernoulliNB())\n",
    "])"
   ]
  },
  {
   "cell_type": "markdown",
   "id": "42b65cd3-6471-475e-b048-addc4fe47cf7",
   "metadata": {},
   "source": [
    "#### Hyperparameter Tuning\n",
    "\n",
    "To test a variety of parameters, we can construct a parameter grid to pass to `GridSearchCV`. This will test all the combinations present, and provide the best model based off a specific metric. "
   ]
  },
  {
   "cell_type": "code",
   "execution_count": 38,
   "id": "d5e772ac-dd07-4f15-a29b-438c1cf6b65c",
   "metadata": {},
   "outputs": [
    {
     "name": "stdout",
     "output_type": "stream",
     "text": [
      "Fitting 5 folds for each of 96 candidates, totalling 480 fits\n",
      "Best Score: 0.8777878027182837\n",
      "Optimal Values: {'clf__alpha': 0.1, 'vect__binary': True, 'vect__ngram_range': (2, 3), 'vect__stop_words': None}\n",
      "\n",
      "CPU times: user 36.3 s, sys: 19.3 s, total: 55.5 s\n",
      "Wall time: 19min 56s\n"
     ]
    }
   ],
   "source": [
    "%%time\n",
    "\n",
    "param_grid = {\n",
    "    'vect__binary': [True, False],\n",
    "    'vect__stop_words': [stop_words, 'english', None],\n",
    "    'vect__ngram_range': [(1, 1), (1, 2), (2, 2), (2, 3)],\n",
    "    'clf__alpha': [0.1, 1, 1.5, 2.0]\n",
    "}\n",
    "\n",
    "clf_bernoulli_grid = GridSearchCV(bernoulliNB_Binary, param_grid, scoring='f1', n_jobs=-1, verbose=1).fit(X_train, y_train)\n",
    "\n",
    "\n",
    "print(f\"Best Score: {clf_bernoulli_grid.best_score_}\")\n",
    "\n",
    "print(f\"Optimal Values: {clf_bernoulli_grid.best_params_}\\n\")"
   ]
  },
  {
   "cell_type": "markdown",
   "id": "c917f51b-aab5-4a54-bcc3-a00449a1b52e",
   "metadata": {},
   "source": [
    "From this we can now craft our ideal model.\n",
    "\n",
    "#### Ideal Model"
   ]
  },
  {
   "cell_type": "code",
   "execution_count": 93,
   "id": "bc5c2ec0-f7cc-43fb-b06a-677fbb838f2e",
   "metadata": {},
   "outputs": [
    {
     "name": "stdout",
     "output_type": "stream",
     "text": [
      "Confusion Matrix\n",
      "[[4507  482]\n",
      " [ 696 4315]]\n",
      "\n",
      "Classification Report\n",
      "              precision    recall  f1-score   support\n",
      "\n",
      "    Negative       0.87      0.90      0.88      4989\n",
      "    Positive       0.90      0.86      0.88      5011\n",
      "\n",
      "    accuracy                           0.88     10000\n",
      "   macro avg       0.88      0.88      0.88     10000\n",
      "weighted avg       0.88      0.88      0.88     10000\n",
      "\n",
      "\n",
      "Cross Val Score: [0.881375 0.8855   0.885375 0.8805   0.886   ]\n",
      "CPU times: user 12 s, sys: 221 ms, total: 12.2 s\n",
      "Wall time: 30.4 s\n"
     ]
    }
   ],
   "source": [
    "%%time\n",
    "\n",
    "ideal_bernoulli_binary = Pipeline([\n",
    "    (\"vect\", CountVectorizer(binary=True, stop_words=None, strip_accents='ascii', ngram_range=(1,2))),\n",
    "    (\"clf\", BernoulliNB(alpha=0.1))\n",
    "])\n",
    "\n",
    "ideal_bernoulli_binary.fit(X_train, y_train)\n",
    "\n",
    "y_pred = ideal_bernoulli_binary.predict(X_test)\n",
    "\n",
    "print(\"Confusion Matrix\")\n",
    "print(confusion_matrix(y_test, y_pred))\n",
    "print()\n",
    "print(\"Classification Report\")\n",
    "print(classification_report(y_test, y_pred, target_names=[\"Negative\", \"Positive\"]))\n",
    "print()\n",
    "print(f\"Cross Val Score: {cross_val_score(ideal_bernoulli_binary, X, y, n_jobs=-1)}\")"
   ]
  },
  {
   "cell_type": "markdown",
   "id": "daf087d3-3b60-45e2-b58a-14cada747983",
   "metadata": {},
   "source": [
    "From this we see that BernoulliNB is strong, but not perfect. From here we can move to our next model, MultinomialNB.\n",
    "\n",
    "### Multinomial Naive Bayes "
   ]
  },
  {
   "cell_type": "code",
   "execution_count": null,
   "id": "d6fe9e05-237e-4a2b-81cd-5e634c2cdc71",
   "metadata": {},
   "outputs": [],
   "source": [
    "multinomial_pipeline = Pipeline([\n",
    "    (\"vect\", CountVectorizer()),\n",
    "    (\"clf\", MultinomialNB())\n",
    "])"
   ]
  },
  {
   "cell_type": "code",
   "execution_count": null,
   "id": "3c69b43b-105d-4069-a779-aa415d7def87",
   "metadata": {},
   "outputs": [
    {
     "name": "stdout",
     "output_type": "stream",
     "text": [
      "n_iterations: 8\n",
      "n_required_iterations: 8\n",
      "n_possible_iterations: 8\n",
      "min_resources_: 234\n",
      "max_resources_: 30000\n",
      "aggressive_elimination: False\n",
      "factor: 2\n",
      "----------\n",
      "iter: 0\n",
      "n_candidates: 243\n",
      "n_resources: 234\n",
      "Fitting 5 folds for each of 243 candidates, totalling 1215 fits\n",
      "----------\n",
      "iter: 1\n",
      "n_candidates: 122\n",
      "n_resources: 468\n",
      "Fitting 5 folds for each of 122 candidates, totalling 610 fits\n",
      "----------\n",
      "iter: 2\n",
      "n_candidates: 61\n",
      "n_resources: 936\n",
      "Fitting 5 folds for each of 61 candidates, totalling 305 fits\n",
      "----------\n",
      "iter: 3\n",
      "n_candidates: 31\n",
      "n_resources: 1872\n",
      "Fitting 5 folds for each of 31 candidates, totalling 155 fits\n",
      "----------\n",
      "iter: 4\n",
      "n_candidates: 16\n",
      "n_resources: 3744\n",
      "Fitting 5 folds for each of 16 candidates, totalling 80 fits\n",
      "----------\n",
      "iter: 5\n",
      "n_candidates: 8\n",
      "n_resources: 7488\n",
      "Fitting 5 folds for each of 8 candidates, totalling 40 fits\n",
      "----------\n",
      "iter: 6\n",
      "n_candidates: 4\n",
      "n_resources: 14976\n",
      "Fitting 5 folds for each of 4 candidates, totalling 20 fits\n",
      "----------\n",
      "iter: 7\n",
      "n_candidates: 2\n",
      "n_resources: 29952\n",
      "Fitting 5 folds for each of 2 candidates, totalling 10 fits\n",
      "Best Score: 0.8781715786407946\n",
      "Optimal Values: {'clf__alpha': 0.5, 'vect__analyzer': 'word', 'vect__ngram_range': (1, 2), 'vect__stop_words': None, 'vect__strip_accents': 'unicode'}\n",
      "\n",
      "CPU times: user 57 s, sys: 1min 26s, total: 2min 23s\n",
      "Wall time: 6min 36s\n"
     ]
    }
   ],
   "source": [
    "%%time\n",
    "\n",
    "\n",
    "param_grid = {\n",
    "    'vect__binary': [True, False],\n",
    "    'vect__analyzer': ['word', 'char', 'char_wb'],\n",
    "    'vect__strip_accents': ['ascii', 'unicode', None],\n",
    "    'vect__stop_words': [stop_words, 'english', None],\n",
    "    'vect__ngram_range': [(1, 1), (1, 2), (2, 2)],\n",
    "    'clf__alpha': [0.1, 0.5, 1]\n",
    "}\n",
    "\n",
    "clf_multinomial_pipeline = HalvingGridSearchCV(multinomial_pipeline, param_grid, scoring='f1', n_jobs=-1, verbose=1, factor=2).fit(X_train, y_train)\n",
    "\n",
    "print(f\"Best Score: {clf_multinomial_pipeline.best_score_}\")\n",
    "\n",
    "print(f\"Optimal Values: {clf_multinomial_pipeline.best_params_}\\n\")"
   ]
  },
  {
   "cell_type": "code",
   "execution_count": null,
   "id": "298198d7-57b0-476f-bfda-f567fb1cbbc5",
   "metadata": {},
   "outputs": [],
   "source": []
  }
 ],
 "metadata": {
  "kernelspec": {
   "display_name": "Python 3 (ipykernel)",
   "language": "python",
   "name": "python3"
  },
  "language_info": {
   "codemirror_mode": {
    "name": "ipython",
    "version": 3
   },
   "file_extension": ".py",
   "mimetype": "text/x-python",
   "name": "python",
   "nbconvert_exporter": "python",
   "pygments_lexer": "ipython3",
   "version": "3.10.2"
  }
 },
 "nbformat": 4,
 "nbformat_minor": 5
}
