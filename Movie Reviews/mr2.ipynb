{
 "cells": [
  {
   "cell_type": "markdown",
   "id": "a9777497-af64-438a-b67c-9d794f2c43c1",
   "metadata": {},
   "source": [
    "# Movie Review Classifer\n",
    "\n",
    "Ian Kollipara\n",
    "\n",
    "2022.03.27\n",
    "\n",
    "CS 392 Seminar in Data Science\n",
    "\n",
    "## Importing Packages"
   ]
  },
  {
   "cell_type": "code",
   "execution_count": 55,
   "id": "f0b472dc-9186-46c9-a647-b24a2d3bfc55",
   "metadata": {},
   "outputs": [
    {
     "name": "stderr",
     "output_type": "stream",
     "text": [
      "[nltk_data] Downloading package wordnet to\n",
      "[nltk_data]     /home/ikollipara/nltk_data...\n",
      "[nltk_data]   Package wordnet is already up-to-date!\n"
     ]
    }
   ],
   "source": [
    "import numpy as np\n",
    "import pandas as pd\n",
    "import seaborn as sns\n",
    "import matplotlib.pyplot as plt\n",
    "plt.style.use(\"ggplot\")\n",
    "import nltk\n",
    "nltk.download(\"wordnet\")\n",
    "from nltk.stem import WordNetLemmatizer\n",
    "from wordcloud import WordCloud\n",
    "\n",
    "from sklearn.pipeline import Pipeline\n",
    "from sklearn.metrics import classification_report, confusion_matrix"
   ]
  },
  {
   "cell_type": "markdown",
   "id": "09284be6-715b-4f3d-a03c-d26011591b4f",
   "metadata": {},
   "source": [
    "## Preprocessing\n",
    "### Data Exploration"
   ]
  },
  {
   "cell_type": "code",
   "execution_count": 17,
   "id": "53be47b0-e83e-4d52-800c-d38051b9d49d",
   "metadata": {},
   "outputs": [
    {
     "name": "stdout",
     "output_type": "stream",
     "text": [
      "(40000, 2)\n"
     ]
    },
    {
     "data": {
      "text/html": [
       "<div>\n",
       "<style scoped>\n",
       "    .dataframe tbody tr th:only-of-type {\n",
       "        vertical-align: middle;\n",
       "    }\n",
       "\n",
       "    .dataframe tbody tr th {\n",
       "        vertical-align: top;\n",
       "    }\n",
       "\n",
       "    .dataframe thead th {\n",
       "        text-align: right;\n",
       "    }\n",
       "</style>\n",
       "<table border=\"1\" class=\"dataframe\">\n",
       "  <thead>\n",
       "    <tr style=\"text-align: right;\">\n",
       "      <th></th>\n",
       "      <th>text</th>\n",
       "      <th>label</th>\n",
       "    </tr>\n",
       "  </thead>\n",
       "  <tbody>\n",
       "    <tr>\n",
       "      <th>0</th>\n",
       "      <td>I grew up (b. 1965) watching and loving the Th...</td>\n",
       "      <td>0</td>\n",
       "    </tr>\n",
       "    <tr>\n",
       "      <th>1</th>\n",
       "      <td>When I put this movie in my DVD player, and sa...</td>\n",
       "      <td>0</td>\n",
       "    </tr>\n",
       "    <tr>\n",
       "      <th>2</th>\n",
       "      <td>Why do people who do not know what a particula...</td>\n",
       "      <td>0</td>\n",
       "    </tr>\n",
       "    <tr>\n",
       "      <th>3</th>\n",
       "      <td>Even though I have great interest in Biblical ...</td>\n",
       "      <td>0</td>\n",
       "    </tr>\n",
       "    <tr>\n",
       "      <th>4</th>\n",
       "      <td>Im a die hard Dads Army fan and nothing will e...</td>\n",
       "      <td>1</td>\n",
       "    </tr>\n",
       "  </tbody>\n",
       "</table>\n",
       "</div>"
      ],
      "text/plain": [
       "                                                text  label\n",
       "0  I grew up (b. 1965) watching and loving the Th...      0\n",
       "1  When I put this movie in my DVD player, and sa...      0\n",
       "2  Why do people who do not know what a particula...      0\n",
       "3  Even though I have great interest in Biblical ...      0\n",
       "4  Im a die hard Dads Army fan and nothing will e...      1"
      ]
     },
     "execution_count": 17,
     "metadata": {},
     "output_type": "execute_result"
    }
   ],
   "source": [
    "df = pd.read_csv(\"movie.csv\")\n",
    "print(df.shape)\n",
    "df.head(5)"
   ]
  },
  {
   "cell_type": "markdown",
   "id": "f70aa84d-db50-4ef9-a555-655b13814531",
   "metadata": {},
   "source": [
    "This dataset is of movie reviews, with the goal of classifying reviews as positive or negative, given the review. Our dataset here contains 40,000 reviews - noted as the column `text` - as well as the type of review: Positive (1) or Negative (0) - denoted `label`. A good addition is a third column, length. This is the length of the text."
   ]
  },
  {
   "cell_type": "code",
   "execution_count": 18,
   "id": "75ffb7fd-0a22-4d14-8586-b812350ead73",
   "metadata": {},
   "outputs": [],
   "source": [
    "df['length'] = df['text'].map(lambda text: len(text))"
   ]
  },
  {
   "cell_type": "markdown",
   "id": "07903587-ed37-429d-a311-a81e3f99d991",
   "metadata": {},
   "source": [
    "From here we can visualize the distribution of Negative and Positive Reviews."
   ]
  },
  {
   "cell_type": "code",
   "execution_count": 23,
   "id": "7c96ce5a-0157-48bd-a7be-6665716cef28",
   "metadata": {},
   "outputs": [
    {
     "data": {
      "text/plain": [
       "Text(0.5, 0, 'Classification')"
      ]
     },
     "execution_count": 23,
     "metadata": {},
     "output_type": "execute_result"
    },
    {
     "data": {
      "image/png": "[encoded data removed]",
      "text/plain": [
       "<Figure size 576x432 with 1 Axes>"
      ]
     },
     "metadata": {},
     "output_type": "display_data"
    }
   ],
   "source": [
    "values = df[\"label\"].value_counts().values\n",
    "plt.figure(figsize=(8, 6))\n",
    "sns.barplot(x=[\"Negative\", \"Positive\"], y=values, alpha=0.9)\n",
    "\n",
    "plt.title(\"Distribution of Positive vs. Negative Reviews\")\n",
    "plt.ylabel(\"Count\")\n",
    "plt.xlabel(\"Classification\")"
   ]
  },
  {
   "cell_type": "code",
   "execution_count": 24,
   "id": "e048e936-d542-4463-a61b-cb36ca5ec6a4",
   "metadata": {},
   "outputs": [
    {
     "data": {
      "text/html": [
       "<div>\n",
       "<style scoped>\n",
       "    .dataframe tbody tr th:only-of-type {\n",
       "        vertical-align: middle;\n",
       "    }\n",
       "\n",
       "    .dataframe tbody tr th {\n",
       "        vertical-align: top;\n",
       "    }\n",
       "\n",
       "    .dataframe thead th {\n",
       "        text-align: right;\n",
       "    }\n",
       "</style>\n",
       "<table border=\"1\" class=\"dataframe\">\n",
       "  <thead>\n",
       "    <tr style=\"text-align: right;\">\n",
       "      <th></th>\n",
       "      <th>text</th>\n",
       "      <th>length</th>\n",
       "    </tr>\n",
       "    <tr>\n",
       "      <th>label</th>\n",
       "      <th></th>\n",
       "      <th></th>\n",
       "    </tr>\n",
       "  </thead>\n",
       "  <tbody>\n",
       "    <tr>\n",
       "      <th>0</th>\n",
       "      <td>20019</td>\n",
       "      <td>20019</td>\n",
       "    </tr>\n",
       "    <tr>\n",
       "      <th>1</th>\n",
       "      <td>19981</td>\n",
       "      <td>19981</td>\n",
       "    </tr>\n",
       "  </tbody>\n",
       "</table>\n",
       "</div>"
      ],
      "text/plain": [
       "        text  length\n",
       "label               \n",
       "0      20019   20019\n",
       "1      19981   19981"
      ]
     },
     "execution_count": 24,
     "metadata": {},
     "output_type": "execute_result"
    }
   ],
   "source": [
    "df.groupby(\"label\").count()"
   ]
  },
  {
   "cell_type": "markdown",
   "id": "1e4b6819-f7de-4dff-a3a2-6478fc138f7c",
   "metadata": {},
   "source": [
    "Our distribution is roughly equal, with ~20,000 in each. This makes for great data in terms of analysis, as there isn't any lopsided-ness to it. Next, we can investigate the metrics associated with the length of the text."
   ]
  },
  {
   "cell_type": "code",
   "execution_count": 25,
   "id": "6177314c-9c7b-411d-90bc-2a741b845f07",
   "metadata": {},
   "outputs": [
    {
     "data": {
      "text/html": [
       "<div>\n",
       "<style scoped>\n",
       "    .dataframe tbody tr th:only-of-type {\n",
       "        vertical-align: middle;\n",
       "    }\n",
       "\n",
       "    .dataframe tbody tr th {\n",
       "        vertical-align: top;\n",
       "    }\n",
       "\n",
       "    .dataframe thead th {\n",
       "        text-align: right;\n",
       "    }\n",
       "</style>\n",
       "<table border=\"1\" class=\"dataframe\">\n",
       "  <thead>\n",
       "    <tr style=\"text-align: right;\">\n",
       "      <th></th>\n",
       "      <th>count</th>\n",
       "      <th>mean</th>\n",
       "      <th>std</th>\n",
       "      <th>min</th>\n",
       "      <th>25%</th>\n",
       "      <th>50%</th>\n",
       "      <th>75%</th>\n",
       "      <th>max</th>\n",
       "    </tr>\n",
       "    <tr>\n",
       "      <th>label</th>\n",
       "      <th></th>\n",
       "      <th></th>\n",
       "      <th></th>\n",
       "      <th></th>\n",
       "      <th></th>\n",
       "      <th></th>\n",
       "      <th></th>\n",
       "      <th></th>\n",
       "    </tr>\n",
       "  </thead>\n",
       "  <tbody>\n",
       "    <tr>\n",
       "      <th>0</th>\n",
       "      <td>20019.0</td>\n",
       "      <td>1292.536990</td>\n",
       "      <td>942.220087</td>\n",
       "      <td>32.0</td>\n",
       "      <td>705.0</td>\n",
       "      <td>973.0</td>\n",
       "      <td>1571.0</td>\n",
       "      <td>8969.0</td>\n",
       "    </tr>\n",
       "    <tr>\n",
       "      <th>1</th>\n",
       "      <td>19981.0</td>\n",
       "      <td>1328.083279</td>\n",
       "      <td>1032.236721</td>\n",
       "      <td>65.0</td>\n",
       "      <td>690.0</td>\n",
       "      <td>972.0</td>\n",
       "      <td>1621.0</td>\n",
       "      <td>13704.0</td>\n",
       "    </tr>\n",
       "  </tbody>\n",
       "</table>\n",
       "</div>"
      ],
      "text/plain": [
       "         count         mean          std   min    25%    50%     75%      max\n",
       "label                                                                        \n",
       "0      20019.0  1292.536990   942.220087  32.0  705.0  973.0  1571.0   8969.0\n",
       "1      19981.0  1328.083279  1032.236721  65.0  690.0  972.0  1621.0  13704.0"
      ]
     },
     "execution_count": 25,
     "metadata": {},
     "output_type": "execute_result"
    }
   ],
   "source": [
    "df.groupby(\"label\")[\"length\"].describe()"
   ]
  },
  {
   "cell_type": "markdown",
   "id": "b9dea9e9-5fa2-4c04-a4e3-0631001b1853",
   "metadata": {},
   "source": [
    "From here, we can see most reviews are in the range of ~300 to ~2,300 words. However, both have reviews that are far past this. Given this, we can analyze the distribution of length in relation to the classification of the reviews."
   ]
  },
  {
   "cell_type": "code",
   "execution_count": 36,
   "id": "9714eb13-3872-457b-846c-9c4c46d83c3a",
   "metadata": {},
   "outputs": [
    {
     "data": {
      "text/plain": [
       "array([<AxesSubplot:title={'center':'0'}>,\n",
       "       <AxesSubplot:title={'center':'1'}>], dtype=object)"
      ]
     },
     "execution_count": 36,
     "metadata": {},
     "output_type": "execute_result"
    },
    {
     "data": {
      "image/png": "[encoded data removed]",
      "text/plain": [
       "<Figure size 864x432 with 2 Axes>"
      ]
     },
     "metadata": {},
     "output_type": "display_data"
    }
   ],
   "source": [
    "threshold = 2300\n",
    "df[df[\"length\"] < threshold].hist(\"length\", by=\"label\", bins=500, figsize=(12, 6))"
   ]
  },
  {
   "cell_type": "markdown",
   "id": "efeb7261-f388-4067-a3cb-22e523cbfe12",
   "metadata": {},
   "source": [
    "From this, we can see a majority of the reviews, both for positive and negative, lie with in the range 500 to 1250. We can zoom in more, but what I want to see is the correlation between long reviews and their classification."
   ]
  },
  {
   "cell_type": "code",
   "execution_count": 50,
   "id": "a564b669-ddaa-4556-b30e-768d6a67afd3",
   "metadata": {},
   "outputs": [
    {
     "data": {
      "text/html": [
       "<div>\n",
       "<style scoped>\n",
       "    .dataframe tbody tr th:only-of-type {\n",
       "        vertical-align: middle;\n",
       "    }\n",
       "\n",
       "    .dataframe tbody tr th {\n",
       "        vertical-align: top;\n",
       "    }\n",
       "\n",
       "    .dataframe thead th {\n",
       "        text-align: right;\n",
       "    }\n",
       "</style>\n",
       "<table border=\"1\" class=\"dataframe\">\n",
       "  <thead>\n",
       "    <tr style=\"text-align: right;\">\n",
       "      <th></th>\n",
       "      <th>text</th>\n",
       "      <th>length</th>\n",
       "    </tr>\n",
       "    <tr>\n",
       "      <th>label</th>\n",
       "      <th></th>\n",
       "      <th></th>\n",
       "    </tr>\n",
       "  </thead>\n",
       "  <tbody>\n",
       "    <tr>\n",
       "      <th>0</th>\n",
       "      <td>2398</td>\n",
       "      <td>2398</td>\n",
       "    </tr>\n",
       "    <tr>\n",
       "      <th>1</th>\n",
       "      <td>2739</td>\n",
       "      <td>2739</td>\n",
       "    </tr>\n",
       "  </tbody>\n",
       "</table>\n",
       "</div>"
      ],
      "text/plain": [
       "       text  length\n",
       "label              \n",
       "0      2398    2398\n",
       "1      2739    2739"
      ]
     },
     "execution_count": 50,
     "metadata": {},
     "output_type": "execute_result"
    },
    {
     "data": {
      "image/png": "[encoded data removed]",
      "text/plain": [
       "<Figure size 576x432 with 1 Axes>"
      ]
     },
     "metadata": {},
     "output_type": "display_data"
    }
   ],
   "source": [
    "plt.figure(figsize=(8, 6))\n",
    "sns.stripplot(y=\"length\", x=\"label\", data=df[df[\"length\"] > threshold])\n",
    "plt.title(\"Comparison of long length reviews and their classification\")\n",
    "plt.xlabel(\"Classification\")\n",
    "df[df[\"length\"] > threshold].groupby(\"label\").count()"
   ]
  },
  {
   "cell_type": "markdown",
   "id": "2aa56475-3cc0-4fd0-b594-54a79c461425",
   "metadata": {},
   "source": [
    "It appears that, by a small margin, longer reviews are positive. We can analyze the correlation as well."
   ]
  },
  {
   "cell_type": "code",
   "execution_count": 54,
   "id": "eda2775f-c757-48ba-93a3-28f336deafe9",
   "metadata": {},
   "outputs": [
    {
     "name": "stdout",
     "output_type": "stream",
     "text": [
      "           label    length\n",
      "label   1.000000  0.044712\n",
      "length  0.044712  1.000000\n",
      "\n",
      "           label    length\n",
      "label   1.000000  0.044789\n",
      "length  0.044789  1.000000\n"
     ]
    }
   ],
   "source": [
    "print(df[df[\"length\"] > threshold].corr())\n",
    "print()\n",
    "print(df[df[\"length\"] > threshold].corr(\"spearman\"))"
   ]
  },
  {
   "cell_type": "markdown",
   "id": "fc9145be-e70f-4a52-857b-ec429d3ae8a7",
   "metadata": {},
   "source": [
    "As I thought, longer length reviews are somewhat positively correlated with Positive Classification (1). \n",
    "\n",
    "### Feature Extraction\n",
    "#### Stemming\n",
    "\n",
    "The first step in preprocessing this dataframe is stemming the words. This is accomplished through a few different means. the way I chose is to do lemmatization. The main goal of this is to break a word down to its root. This process is vital, as it limits our features by removing plurals and such. \n",
    "\n",
    "The lemmatizer I chose comes from [Princeton's WordNet](https://wordnet.princeton.edu/). It does a wonderful job of lemmatizing synonyms as it tries to detect them. "
   ]
  },
  {
   "cell_type": "code",
   "execution_count": null,
   "id": "bb224264-2023-4aeb-966e-02c878cab0b2",
   "metadata": {},
   "outputs": [],
   "source": [
    "lemmatizer = WordNetLemmatizer()"
   ]
  }
 ],
 "metadata": {
  "kernelspec": {
   "display_name": "Python 3 (ipykernel)",
   "language": "python",
   "name": "python3"
  },
  "language_info": {
   "codemirror_mode": {
    "name": "ipython",
    "version": 3
   },
   "file_extension": ".py",
   "mimetype": "text/x-python",
   "name": "python",
   "nbconvert_exporter": "python",
   "pygments_lexer": "ipython3",
   "version": "3.10.2"
  }
 },
 "nbformat": 4,
 "nbformat_minor": 5
}
