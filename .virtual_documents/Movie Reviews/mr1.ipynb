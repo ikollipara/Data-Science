import pandas as pd
import seaborn as sns
import matplotlib.pyplot as plt


df = pd.read_csv("movie.csv")


df = df.rename(columns={"label": "target"})
df


df.groupby("target").count()


label_counts = df['target'].value_counts()
plt.figure(figsize=(8,6))
sns.barplot(x=["Negative", "Positive"], y=label_counts.values, alpha=0.9)

plt.show()


df['length'] = df['text'].map(lambda t: len(t))
df


df.isna().values.any()


df.groupby("target")["length"].describe()


threshold = 2500

df[df["length"] < 2500].hist(column="length", by="target", bins=100, figsize=(12,6))



