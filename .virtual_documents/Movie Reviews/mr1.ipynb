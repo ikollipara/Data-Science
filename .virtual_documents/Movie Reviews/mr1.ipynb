import pandas as pd
import seaborn as sns


df = pd.read_csv("movie.csv")


df = df.rename(columns={"label": "target"})
df



