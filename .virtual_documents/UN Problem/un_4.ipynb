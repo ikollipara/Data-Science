import polars as pl


df = pl.read_csv("countries.csv")


df


df = df.rename({"gdpp": "nominal gdpp"})
df


df = df.rename({"health": "health_percent", "exports": "exports_percent", "imports": "imports_percent"})


df = df.with_columns([
    ((pl.col("health_percent") / 100) * pl.col("nominal gdpp")).alias("health"),
    ((pl.col("exports_percent") / 100) * pl.col("nominal gdpp")).alias("exports"),
    ((pl.col("imports_percent") / 100) * pl.col("nominal gdpp")).alias("imports")
])
df


import seaborn as sns


sns.pairplot(df.select(pl.exclude(["country", "health_percent", "imports_percent", "exports_percent"])).to_pandas())


sns.jointplot(x="income", y="inflation", data=df.filter((pl.col("inflation") < 100)).to_pandas())


df[[
    pl.spearman_rank_corr("income", "child_mort").alias("income-child_mort"),
    pl.spearman_rank_corr("income", "life_expec").alias("income-life_expec"),
    pl.spearman_rank_corr("income", "total_fer").alias("income-total_fer"),
    pl.spearman_rank_corr("income", "nominal gdpp").alias("income-nominal gdpp"),
    pl.spearman_rank_corr("income", "imports").alias("income-imports"),
    pl.spearman_rank_corr("income", "health").alias("income-health"),
    pl.spearman_rank_corr("income", "exports").alias("income-exports"),
    pl.spearman_rank_corr("child_mort", "life_expec").alias("child_mort-life_expec"),
    pl.spearman_rank_corr("child_mort", "total_fer").alias("child_mort-total_fer")
]]
