import polars as pl


df = pl.read_csv("countries.csv")


df


df = df.rename({"gdpp": "nominal gdpp"})
df


df = df.rename({"health": "health_percent", "exports": "exports_percent", "imports": "imports_percent"})


df = df.with_columns([
    ((pl.col("health_percent") / 100) * pl.col("nominal gdpp")).alias("health"),
    ((pl.col("exports_percent") / 100) * pl.col("nominal gdpp")).alias("exports"),
    ((pl.col("imports_percent") / 100) * pl.col("nominal gdpp")).alias("imports")
])
df


import seaborn as sns


sns.pairplot(df.select(pl.exclude(["country", "health_percent", "imports_percent", "exports_percent"])).to_pandas())


sns.jointplot(x="income", y="inflation", data=df.filter((pl.col("inflation") < 30) & (pl.col("income") < 60_000)).to_pandas())


df[[
    pl.spearman_rank_corr("income", "child_mort").alias("income-child_mort"),
    pl.spearman_rank_corr("income", "life_expec").alias("income-life_expec"),
    pl.spearman_rank_corr("income", "total_fer").alias("income-total_fer"),
    pl.spearman_rank_corr("income", "nominal gdpp").alias("income-nominal gdpp"),
    pl.spearman_rank_corr("income", "imports").alias("income-imports"),
    pl.spearman_rank_corr("income", "health").alias("income-health"),
    pl.spearman_rank_corr("income", "exports").alias("income-exports"),
    pl.spearman_rank_corr("child_mort", "life_expec").alias("child_mort-life_expec"),
    pl.spearman_rank_corr("child_mort", "total_fer").alias("child_mort-total_fer"),
]]


sns.histplot(df[["nominal gdpp"]].to_pandas())


X = df[["income", "nominal gdpp", "child_mort"]]
X


from scipy.stats import zscore
from sklearn.preprocessing import minmax_scale


X_z = X[[pl.all().map(zscore)]]


X_scaled = pl.DataFrame(X.to_pandas().apply(minmax_scale))


from sklearn.preprocessing import StandardScaler
from sklearn.decomposition import PCA


pca_model = PCA(2)
X_pca = pl.DataFrame(pca_model.fit_transform(StandardScaler().fit_transform(X.to_pandas())), ["pca0", "pca1"])
sum(pca_model.explained_variance_ratio_)


from sklearn.metrics import DistanceMetric


dist = DistanceMetric.get_metric("euclidean")


from sklearn.cluster import KMeans


kmeans_model = KMeans(5)


kmeans_model.fit(X_z.to_pandas())
kmeans_model.inertia_


kmeans_model.fit(X_scaled.to_pandas())
kmeans_model.inertia_


kmeans_model.fit(X_pca.to_pandas())
kmeans_model.inertia_


kmeans_model.fit(X_scaled.to_pandas())


import matplotlib.pyplot as plt
for k in range(2, 16):
    model = KMeans(k)
    model.fit(X_scaled.to_pandas())
    plt.scatter(model.n_clusters, model.inertia_, c="blue")
plt.xlabel("# of Clusters")
plt.ylabel("Inertia")
print(plt)




for k in range(2, 16):
    model = KMeans(k)
    model.fit(X_z.to_pandas())
    plt.scatter(model.n_clusters, model.inertia_, c="red")
plt.xlabel("# of Clusters")
plt.ylabel("Inertia")


for k in range(2, 16):
    model = KMeans(k)
    model.fit(X_pca.to_pandas())
    plt.scatter(model.n_clusters, model.inertia_, c="orange")
plt.xlabel("# of Clusters")
plt.ylabel("Inertia")


ideal_kmeans = KMeans(6).fit(X_z.to_pandas())


df["kmeans_labels"] = ideal_kmeans.labels_
df


visualize_plot = sns.PairGrid(df.to_pandas(), hue="kmeans_labels", x_vars=["income", "child_mort"], y_vars=["child_mort", "nominal gdpp"], palette=sns.color_palette("bright", 6), height=5)
visualize_plot.map(sns.scatterplot)
visualize_plot.add_legend()


df["labels"] = ideal_kmeans.labels_
wbac = df.filter((pl.col("labels") == 1))
print(wbac.sort("nominal gdpp").head(5))
print(wbac.sort("child_mort").head(5))
print(wbac.sort("income").head(5))


import scipy.cluster.hierarchy as shc


z_dendrogram = shc.dendrogram(shc.linkage(X_z.to_pandas(), "ward"))


pca_dendrogram = shc.dendrogram(shc.linkage(X_pca.to_pandas(), "ward"))


scaled_dendrogram = shc.dendrogram(shc.linkage(X_scaled.to_pandas(), "ward"))


from sklearn.cluster import AgglomerativeClustering
from sklearn.metrics import silhouette_score


for k in range(2, 16):
    model = AgglomerativeClustering(k).fit(X_scaled.to_pandas())
    plt.bar(k, silhouette_score(X_scaled.to_pandas(), model.labels_))


ideal_ag = AgglomerativeClustering(4).fit(X_scaled.to_pandas())

df["agg_labels"] = ideal_ag.labels_
df


visualize_plot = sns.PairGrid(data=df.to_pandas(), hue="agg_labels", palette=sns.color_palette("bright", 4), x_vars=["income", "child_mort"], y_vars=["child_mort", "nominal gdpp"], height=5)
visualize_plot.map(sns.scatterplot)
visualize_plot.add_legend()


wbaa = df.filter(pl.col("agg_labels") == 2)
print(wbaa.sort("income").head(5))
print(wbaa.sort("nominal gdpp").head(5))
print(wbaa.sort("child_mort").head(5))



