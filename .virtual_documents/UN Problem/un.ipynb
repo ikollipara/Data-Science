# I chose to use polars out of curiousity, and to learn about another library. I quite like it compared to pandas
import polars as pl
import seaborn as sns
import matplotlib.pyplot as plt
import scipy.cluster.hierarchy as shc
from scipy.stats import zscore
from sklearn.preprocessing import minmax_scale, StandardScaler
from sklearn.decomposition import PCA
from sklearn.cluster import KMeans, AgglomerativeClustering
from sklearn.metrics import silhouette_score


df = pl.read_csv("countries.csv")


df


df = df.rename({"gdpp": "nominal gdpp"})


df = df.with_columns([
    ((pl.col("health") / 100) * pl.col("nominal gdpp")).alias("health"),
    ((pl.col("exports") / 100) * pl.col("nominal gdpp")).alias("exports"),
    ((pl.col("imports") / 100) * pl.col("nominal gdpp")).alias("imports"),
])


corr_plot = sns.pairplot(df.to_pandas())
corr_plot.fig.suptitle("Correlation Identification Plot")
corr_plot.fig.subplots_adjust(top=0.95)


sns.jointplot(x="income", y="inflation", data=df.filter(
        (pl.col("inflation") < 30) &
        (pl.col("income") < 60_000))
        .to_pandas()
    )


df[[
    pl.spearman_rank_corr("income", "child_mort").alias("income-child_mort"),
    pl.spearman_rank_corr("income", "life_expec").alias("income-life_expec"),
    pl.spearman_rank_corr("income", "total_fer").alias("income-total_fer"),
    pl.spearman_rank_corr("income", "nominal gdpp").alias("income-nominal gdpp"),
    pl.spearman_rank_corr("income", "imports").alias("income-imports"),
    pl.spearman_rank_corr("income", "health").alias("income-health"),
    pl.spearman_rank_corr("income", "exports").alias("income-exports"),
    pl.spearman_rank_corr("child_mort", "life_expec").alias("child_mort-life_expec"),
    pl.spearman_rank_corr("child_mort", "total_fer").alias("child_mort-total_fer"),
    pl.spearman_rank_corr("child_mort", "nominal gdpp").alias("child_mort-nominal gdpp"),
    pl.spearman_rank_corr("nominal gdpp", "life_expec").alias("nominal gdpp-life_expec")
]]


df.filter((pl.col("nominal gdpp") > 100_000) & (pl.col("imports") > 140_000))


df.filter((pl.col("life_expec") > 60) & (pl.col("inflation") > 100))


df.filter((pl.col("child_mort") > 200) & (pl.col("total_fer") < 4))


X = df[["nominal gdpp", "income", "child_mort"]]
X


X_z = X[[pl.all().map(zscore)]]
X_scaled = pl.DataFrame._from_pandas(X.to_pandas().apply(minmax_scale))
X_pca = pl.DataFrame(PCA(2).fit_transform(StandardScaler().fit_transform(X.to_pandas())), ["pca1", "pca2"])


for k in range(2, 16):
    model = KMeans(k).fit(X_pca.to_pandas())
    plt.scatter(model.n_clusters, model.inertia_, c="blue")
plt.xlabel("# of Clusters")
plt.ylabel("Inertia")
plt.title("Elbow Graph of KMeans Clusters vs. Inertia for X_pca")


for k in range(2, 16):
    model = KMeans(k).fit(X_z.to_pandas())
    plt.scatter(model.n_clusters, model.inertia_, c="blue")
plt.xlabel("# of Clusters")
plt.ylabel("Inertia")
plt.title("Elbow Graph of KMeans Clusters vs. Inertia for X_z")


for k in range(2, 16):
    model = KMeans(k).fit(X_scaled.to_pandas())
    plt.scatter(model.n_clusters, model.inertia_, c="blue")
plt.xlabel("# of Clusters")
plt.ylabel("Inertia")
plt.title("Elbow Graph of KMeans Clusters vs. Inertia for X_scaled")


ideal_kmeans = KMeans(6).fit(X_z.to_pandas())
df["k_labels"] = ideal_kmeans.labels_
kplot = sns.PairGrid(data=df.to_pandas(), hue="k_labels", palette=sns.color_palette("bright", 6), x_vars=["nominal gdpp", "child_mort"], y_vars=["child_mort", "income"], height=5)
kplot.map(sns.scatterplot)
kplot.fig.suptitle("Feature Set with KMeans Clustering")
kplot.fig.subplots_adjust(top=0.95)
kplot.add_legend()


wcp = df.filter((pl.col("k_labels") == 4))


wcp.sort("child_mort", True).head(5)


wcp.sort("income").head(5)


wcp.sort("nominal gdpp").head(5)


z_dendrogram = shc.dendrogram(shc.linkage(X_z.to_pandas(), "ward"))


scaled_dendrogram = shc.dendrogram(shc.linkage(X_scaled.to_pandas(), "ward"))


pca_dendrogram = shc.dendrogram(shc.linkage(X_pca.to_pandas(), "ward"))


for k in range(2, 16):
    model = AgglomerativeClustering(k).fit(X_scaled.to_pandas())
    plt.bar(k, silhouette_score(X_scaled.to_pandas(), model.labels_))
plt.xlabel("# of Clusters")
plt.ylabel("Sihlouette Score")
plt.title("Distribution of Silhouette Score based on Number of Clusters")


ideal_ag = AgglomerativeClustering(4).fit(X_scaled.to_pandas())

df["agg_labels"] = ideal_ag.labels_
aplot = sns.PairGrid(data=df.to_pandas(), hue="agg_labels", palette=sns.color_palette("bright", 4), x_vars=["income", "child_mort"], y_vars=["child_mort", "nominal gdpp"], height=5)
aplot.map(sns.scatterplot)
aplot.fig.suptitle("Feature Set with Agglomerative Clustering")
aplot.fig.subplots_adjust(top=0.95)
aplot.add_legend()


wck = df.filter(pl.col("agg_labels") == 2)


wck.sort("income").head(5)


wck.sort("child_mort", True).head(5)


wck.sort("nominal gdpp").head(5)
