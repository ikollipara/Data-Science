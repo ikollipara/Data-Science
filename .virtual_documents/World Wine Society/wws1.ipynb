import polars as pl
from pandas import read_csv as pd_read_csv
import seaborn as sns


df = pl.DataFrame._from_pandas(pd_read_csv("Red Wine.csv", sep=";"))
print(df.shape)
df


sns.catplot(y="alcohol", x="quality", data=df.to_pandas())



