import pandas as pd
import seaborn as sns


df = pd.read_csv("Red Wine.csv", sep=";")


print(df["quality"].value_counts())
sns.histplot(df, x="quality", discrete=True)


df


sns.scatterplot(x="quality", y="volatile acidity", data=df)


df[["quality"]].corrwith(df["volatile acidity"])


df["bound sulfur dioxide"] = df["total sulfur dioxide"] - df["free sulfur dioxide"]


df["quality"] = df["quality"].apply(lambda x: 0 if x < 5 else 1)
df


from sklearn.model_selection import train_test_split, cross_val_score
from sklearn.neighbors import KNeighborsClassifier
from sklearn.metrics import confusion_matrix, accuracy_score, precision_score, recall_score, f1_score
from sklearn.tree import DecisionTreeClassifier


X = df.drop("quality", axis=1)
y = df["quality"]
X_train, X_test, y_train, y_test = train_test_split(X, y)


kneighbors_model = KNeighborsClassifier()
kneighbors_model.fit(X_train, y_train)


y_pred = kneighbors_model.predict(X_test)


confusion_matrix(y_test, y_pred)


accuracy = accuracy_score(y_test, y_pred)
precision1 = precision_score(y_test, y_pred)
recall1 = recall_score(y_test, y_pred)
f1_score1 = f1_score(y_test, y_pred)

print("Accuracy:", accuracy)
print()
print("Metrics for Class = 1 (Good)")
print("   Precision:", precision1)
print("   Recall:", recall1)
print("   F1-Score:", f1_score1)


precision0 = precision_score(y_test, y_pred, pos_label = 0)
recall0 = recall_score(y_test, y_pred, pos_label = 0)
f1_score0 = f1_score(y_test, y_pred, pos_label = 0)

print("Metrics for Class = 0 (benign)")
print("   Precision:", precision0)
print("   Recall:", recall0)
print("   F1-Score:", f1_score0)


cross_val_score(kneighbors_model, X, y, cv=6)


dt_model = DecisionTreeClassifier(max_depth=4)
dt_model.fit(X_train, y_train)


y_pred = dt_model.predict(X_test)


confusion_matrix(y_test, y_pred)


accuracy = accuracy_score(y_test, y_pred)
precision1 = precision_score(y_test, y_pred)
recall1 = recall_score(y_test, y_pred)
f1_score1 = f1_score(y_test, y_pred)

print("Accuracy:", accuracy)
print()
print("Metrics for Class = 1 (Good)")
print("   Precision:", precision1)
print("   Recall:", recall1)
print("   F1-Score:", f1_score1)


precision0 = precision_score(y_test, y_pred, pos_label = 0)
recall0 = recall_score(y_test, y_pred, pos_label = 0)
f1_score0 = f1_score(y_test, y_pred, pos_label = 0)

print("Metrics for Class = 0 (benign)")
print("   Precision:", precision0)
print("   Recall:", recall0)
print("   F1-Score:", f1_score0)


cross_val_score(dt_model, X, y, cv=6)



