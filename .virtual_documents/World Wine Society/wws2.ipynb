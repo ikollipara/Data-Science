import pandas as pd
import seaborn as sns


df = pd.read_csv("Red Wine.csv", sep=";")
df


df.dtypes


df.iloc[df.index[df["sulfur dioxide ratio"] == df["sulfur dioxide ratio"].min()]]


df["sulfur dioxide ratio"] = df["free sulfur dioxide"] / df["total sulfur dioxide"]
tdf = df[(df["pH"] < 3.8) & (df["pH"] > 2.8)]
print(tdf[["pH"]].corrwith(df["sulfur dioxide ratio"]))
sns.scatterplot(x="quality", y="sulfur dioxide ratio", data=tdf)


sns.scatterplot(y="volatile acidity", x="quality", data=df)


df[["quality"]].corrwith(df["volatile acidity"])


sns.pairplot(df[["total sulfur dioxide", "pH", "quality"]])


sns.pairplot(df)



