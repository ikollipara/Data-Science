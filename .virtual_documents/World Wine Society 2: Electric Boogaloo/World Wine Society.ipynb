import numpy as np
import pandas as pd
import seaborn as sns
import matplotlib.pyplot as plt
from scipy.stats import zscore
plt.style.use("ggplot")
from sklearn.linear_model import Ridge, Lasso
from sklearn.model_selection import train_test_split, cross_val_score, GridSearchCV
from sklearn.metrics import explained_variance_score, make_scorer
from sklearn.preprocessing import minmax_scale


df = pd.read_csv("WhiteWine.csv", sep=";")


sns.histplot(df, x="quality", discrete=True)
plt.title("Distribution of White Wine Quality Ratings")


print("               Pearson")
print(df.corrwith(df["quality"]).sort_values().head(5))
print()
print("              Spearman")
print(df.corrwith(df["quality"], method="spearman").sort_values().head(5))


sns.pairplot(df, y_vars=["quality"])


X = df[["chlorides", "alcohol", "volatile acidity"]]# "fixed acidity", "total sulfur dioxide"]]
y = df["quality"]


X_train, X_test, y_train, y_test = train_test_split(X.apply(zscore), y)


get_ipython().run_cell_magic("time", "", """
param_grid = {"alpha": [0.00001, 0.0001, 0.001, 0.01, 0.1, 1, 1.5, 2]}

ridge_grid = GridSearchCV(Ridge(), param_grid, scoring=make_scorer(explained_variance_score), n_jobs=-1).fit(X_train, y_train)

print("Best Score")
print(ridge_grid.best_score_)
print()
print("Best Params")
print(ridge_grid.best_params_)
print()
ridge_model = ridge_grid.best_estimator_""")


# yz_pred = np.array([round(r) for r in ridge_model.predict(Xz_test)])
y_pred = ridge_model.predict(X_test)
print(y_pred)


explained_variance_score(y_test, y_pred)


get_ipython().run_cell_magic("time", "", """
param_grid = {"alpha": [0.00001, 0.0001, 0.001, 0.01, 0.1, 1, 1.5, 2]}

lasso_grid = GridSearchCV(Lasso(), param_grid, scoring=make_scorer(explained_variance_score), n_jobs=-1).fit(X_train, y_train)

print("Best Score")
print(lasso_grid.best_score_)
print()
print("Best Params")
print(lasso_grid.best_params_)
print()
lasso_model = lasso_grid.best_estimator_""")


y_pred = lasso_model.predict(X_test)
print(y_pred)


explained_variance_score(y_test, y_pred)
