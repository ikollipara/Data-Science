{
 "cells": [
  {
   "cell_type": "markdown",
   "metadata": {},
   "source": [
    "# United Nations Funding Aid Report\n",
    "\n",
    "Ian Kollipara\n",
    "\n",
    "CS 392 Seminar in Data Science\n",
    "\n",
    "2022.02.10"
   ]
  },
  {
   "cell_type": "markdown",
   "metadata": {},
   "source": [
    "## Loading in Data"
   ]
  },
  {
   "cell_type": "markdown",
   "metadata": {},
   "source": [
    "I chose to use Polars instead of Pandas as an attempt to become familiar with another library, as well as to help abstract away the concepts of data science from Pandas."
   ]
  },
  {
   "cell_type": "code",
   "execution_count": 1,
   "metadata": {},
   "outputs": [],
   "source": [
    "import polars as pl"
   ]
  },
  {
   "cell_type": "code",
   "execution_count": 2,
   "metadata": {},
   "outputs": [],
   "source": [
    "df = pl.read_csv(\"countries.csv\")"
   ]
  },
  {
   "cell_type": "code",
   "execution_count": 3,
   "metadata": {},
   "outputs": [
    {
     "name": "stdout",
     "output_type": "stream",
     "text": [
      "shape: (167, 10)\n",
      "┌─────────────┬────────────┬─────────┬────────┬─────┬───────────┬────────────┬───────────┬───────┐\n",
      "│ country     ┆ child_mort ┆ exports ┆ health ┆ ... ┆ inflation ┆ life_expec ┆ total_fer ┆ gdpp  │\n",
      "│ ---         ┆ ---        ┆ ---     ┆ ---    ┆     ┆ ---       ┆ ---        ┆ ---       ┆ ---   │\n",
      "│ str         ┆ f64        ┆ f64     ┆ f64    ┆     ┆ f64       ┆ f64        ┆ f64       ┆ i64   │\n",
      "╞═════════════╪════════════╪═════════╪════════╪═════╪═══════════╪════════════╪═══════════╪═══════╡\n",
      "│ Afghanistan ┆ 90.2       ┆ 10.0    ┆ 7.58   ┆ ... ┆ 9.44      ┆ 56.2       ┆ 5.82      ┆ 553   │\n",
      "├╌╌╌╌╌╌╌╌╌╌╌╌╌┼╌╌╌╌╌╌╌╌╌╌╌╌┼╌╌╌╌╌╌╌╌╌┼╌╌╌╌╌╌╌╌┼╌╌╌╌╌┼╌╌╌╌╌╌╌╌╌╌╌┼╌╌╌╌╌╌╌╌╌╌╌╌┼╌╌╌╌╌╌╌╌╌╌╌┼╌╌╌╌╌╌╌┤\n",
      "│ Albania     ┆ 16.6       ┆ 28.0    ┆ 6.55   ┆ ... ┆ 4.49      ┆ 76.3       ┆ 1.65      ┆ 4090  │\n",
      "├╌╌╌╌╌╌╌╌╌╌╌╌╌┼╌╌╌╌╌╌╌╌╌╌╌╌┼╌╌╌╌╌╌╌╌╌┼╌╌╌╌╌╌╌╌┼╌╌╌╌╌┼╌╌╌╌╌╌╌╌╌╌╌┼╌╌╌╌╌╌╌╌╌╌╌╌┼╌╌╌╌╌╌╌╌╌╌╌┼╌╌╌╌╌╌╌┤\n",
      "│ Algeria     ┆ 27.3       ┆ 38.4    ┆ 4.17   ┆ ... ┆ 16.1      ┆ 76.5       ┆ 2.89      ┆ 4460  │\n",
      "├╌╌╌╌╌╌╌╌╌╌╌╌╌┼╌╌╌╌╌╌╌╌╌╌╌╌┼╌╌╌╌╌╌╌╌╌┼╌╌╌╌╌╌╌╌┼╌╌╌╌╌┼╌╌╌╌╌╌╌╌╌╌╌┼╌╌╌╌╌╌╌╌╌╌╌╌┼╌╌╌╌╌╌╌╌╌╌╌┼╌╌╌╌╌╌╌┤\n",
      "│ Angola      ┆ 119.0      ┆ 62.3    ┆ 2.85   ┆ ... ┆ 22.4      ┆ 60.1       ┆ 6.16      ┆ 3530  │\n",
      "├╌╌╌╌╌╌╌╌╌╌╌╌╌┼╌╌╌╌╌╌╌╌╌╌╌╌┼╌╌╌╌╌╌╌╌╌┼╌╌╌╌╌╌╌╌┼╌╌╌╌╌┼╌╌╌╌╌╌╌╌╌╌╌┼╌╌╌╌╌╌╌╌╌╌╌╌┼╌╌╌╌╌╌╌╌╌╌╌┼╌╌╌╌╌╌╌┤\n",
      "│ ...         ┆ ...        ┆ ...     ┆ ...    ┆ ... ┆ ...       ┆ ...        ┆ ...       ┆ ...   │\n",
      "├╌╌╌╌╌╌╌╌╌╌╌╌╌┼╌╌╌╌╌╌╌╌╌╌╌╌┼╌╌╌╌╌╌╌╌╌┼╌╌╌╌╌╌╌╌┼╌╌╌╌╌┼╌╌╌╌╌╌╌╌╌╌╌┼╌╌╌╌╌╌╌╌╌╌╌╌┼╌╌╌╌╌╌╌╌╌╌╌┼╌╌╌╌╌╌╌┤\n",
      "│ Venezuela   ┆ 17.1       ┆ 28.5    ┆ 4.91   ┆ ... ┆ 45.9      ┆ 75.4       ┆ 2.47      ┆ 13500 │\n",
      "├╌╌╌╌╌╌╌╌╌╌╌╌╌┼╌╌╌╌╌╌╌╌╌╌╌╌┼╌╌╌╌╌╌╌╌╌┼╌╌╌╌╌╌╌╌┼╌╌╌╌╌┼╌╌╌╌╌╌╌╌╌╌╌┼╌╌╌╌╌╌╌╌╌╌╌╌┼╌╌╌╌╌╌╌╌╌╌╌┼╌╌╌╌╌╌╌┤\n",
      "│ Vietnam     ┆ 23.3       ┆ 72.0    ┆ 6.84   ┆ ... ┆ 12.1      ┆ 73.1       ┆ 1.95      ┆ 1310  │\n",
      "├╌╌╌╌╌╌╌╌╌╌╌╌╌┼╌╌╌╌╌╌╌╌╌╌╌╌┼╌╌╌╌╌╌╌╌╌┼╌╌╌╌╌╌╌╌┼╌╌╌╌╌┼╌╌╌╌╌╌╌╌╌╌╌┼╌╌╌╌╌╌╌╌╌╌╌╌┼╌╌╌╌╌╌╌╌╌╌╌┼╌╌╌╌╌╌╌┤\n",
      "│ Yemen       ┆ 56.3       ┆ 30.0    ┆ 5.18   ┆ ... ┆ 23.6      ┆ 67.5       ┆ 4.67      ┆ 1310  │\n",
      "├╌╌╌╌╌╌╌╌╌╌╌╌╌┼╌╌╌╌╌╌╌╌╌╌╌╌┼╌╌╌╌╌╌╌╌╌┼╌╌╌╌╌╌╌╌┼╌╌╌╌╌┼╌╌╌╌╌╌╌╌╌╌╌┼╌╌╌╌╌╌╌╌╌╌╌╌┼╌╌╌╌╌╌╌╌╌╌╌┼╌╌╌╌╌╌╌┤\n",
      "│ Zambia      ┆ 83.1       ┆ 37.0    ┆ 5.89   ┆ ... ┆ 14.0      ┆ 52.0       ┆ 5.4       ┆ 1460  │\n",
      "└─────────────┴────────────┴─────────┴────────┴─────┴───────────┴────────────┴───────────┴───────┘\n",
      "['country', 'child_mort', 'exports', 'health', 'imports', 'income', 'inflation', 'life_expec', 'total_fer', 'gdpp']\n"
     ]
    }
   ],
   "source": [
    "print(df)\n",
    "print(df.columns)"
   ]
  },
  {
   "cell_type": "code",
   "execution_count": 4,
   "metadata": {},
   "outputs": [
    {
     "data": {
      "text/html": [
       "<div>\n",
       "<style scoped>\n",
       "    .dataframe tbody tr th:only-of-type {\n",
       "        vertical-align: middle;\n",
       "    }\n",
       "\n",
       "    .dataframe tbody tr th {\n",
       "        vertical-align: top;\n",
       "    }\n",
       "\n",
       "    .dataframe thead th {\n",
       "        text-align: right;\n",
       "    }\n",
       "</style>\n",
       "<table border=\"1 \"class=\"dataframe \">\n",
       "<thead>\n",
       "<tr>\n",
       "<th>\n",
       "income\n",
       "</th>\n",
       "</tr>\n",
       "<tr>\n",
       "<td>\n",
       "f64\n",
       "</td>\n",
       "</tr>\n",
       "</thead>\n",
       "<tbody>\n",
       "<tr>\n",
       "<td>\n",
       "0.895571\n",
       "</td>\n",
       "</tr>\n",
       "</tbody>\n",
       "</table>\n",
       "</div>"
      ],
      "text/plain": [
       "shape: (1, 1)\n",
       "┌──────────┐\n",
       "│ income   │\n",
       "│ ---      │\n",
       "│ f64      │\n",
       "╞══════════╡\n",
       "│ 0.895571 │\n",
       "└──────────┘"
      ]
     },
     "execution_count": 4,
     "metadata": {},
     "output_type": "execute_result"
    }
   ],
   "source": [
    "df.select(pl.pearson_corr(\"income\", \"gdpp\"))"
   ]
  },
  {
   "cell_type": "markdown",
   "metadata": {},
   "source": [
    "From this we can see a strong correlation between the GDPP, or rather GDP per capita. Taking a look at this graphically..."
   ]
  },
  {
   "cell_type": "code",
   "execution_count": 5,
   "metadata": {},
   "outputs": [],
   "source": [
    "import seaborn as sb"
   ]
  },
  {
   "cell_type": "code",
   "execution_count": 6,
   "metadata": {},
   "outputs": [
    {
     "data": {
      "text/plain": [
       "<AxesSubplot:xlabel='income', ylabel='gdpp'>"
      ]
     },
     "execution_count": 6,
     "metadata": {},
     "output_type": "execute_result"
    },
    {
     "data": {
      "image/png": "[encoded data removed]",
      "text/plain": [
       "<Figure size 432x288 with 1 Axes>"
      ]
     },
     "metadata": {
      "needs_background": "light"
     },
     "output_type": "display_data"
    }
   ],
   "source": [
    "sb.scatterplot(x=\"income\", y=\"gdpp\", data=df.to_pandas())"
   ]
  },
  {
   "cell_type": "markdown",
   "metadata": {},
   "source": [
    "What is found isn't necessarily interesting, but important to note. As a country's overall net income per person increases, so does the country's GDP per capita."
   ]
  },
  {
   "cell_type": "code",
   "execution_count": 7,
   "metadata": {},
   "outputs": [
    {
     "data": {
      "text/html": [
       "<div>\n",
       "<style scoped>\n",
       "    .dataframe tbody tr th:only-of-type {\n",
       "        vertical-align: middle;\n",
       "    }\n",
       "\n",
       "    .dataframe tbody tr th {\n",
       "        vertical-align: top;\n",
       "    }\n",
       "\n",
       "    .dataframe thead th {\n",
       "        text-align: right;\n",
       "    }\n",
       "</style>\n",
       "<table border=\"1 \"class=\"dataframe \">\n",
       "<thead>\n",
       "<tr>\n",
       "<th>\n",
       "imports\n",
       "</th>\n",
       "</tr>\n",
       "<tr>\n",
       "<td>\n",
       "f64\n",
       "</td>\n",
       "</tr>\n",
       "</thead>\n",
       "<tbody>\n",
       "<tr>\n",
       "<td>\n",
       "0.737381\n",
       "</td>\n",
       "</tr>\n",
       "</tbody>\n",
       "</table>\n",
       "</div>"
      ],
      "text/plain": [
       "shape: (1, 1)\n",
       "┌──────────┐\n",
       "│ imports  │\n",
       "│ ---      │\n",
       "│ f64      │\n",
       "╞══════════╡\n",
       "│ 0.737381 │\n",
       "└──────────┘"
      ]
     },
     "execution_count": 7,
     "metadata": {},
     "output_type": "execute_result"
    }
   ],
   "source": [
    "df.select(pl.pearson_corr(\"imports\", \"exports\"))"
   ]
  },
  {
   "cell_type": "code",
   "execution_count": 8,
   "metadata": {},
   "outputs": [
    {
     "data": {
      "text/plain": [
       "<AxesSubplot:xlabel='imports', ylabel='exports'>"
      ]
     },
     "execution_count": 8,
     "metadata": {},
     "output_type": "execute_result"
    },
    {
     "data": {
      "image/png": "[encoded data removed]",
      "text/plain": [
       "<Figure size 432x288 with 1 Axes>"
      ]
     },
     "metadata": {
      "needs_background": "light"
     },
     "output_type": "display_data"
    }
   ],
   "source": [
    "sb.scatterplot(x=\"imports\", y=\"exports\", data=df.to_pandas())"
   ]
  },
  {
   "cell_type": "markdown",
   "metadata": {},
   "source": [
    "This is quite interesting, as the overall trend is linear. Meaning there is a real relationship between imports and exports. This also means that helping one has a good chance to help the other."
   ]
  },
  {
   "cell_type": "code",
   "execution_count": 9,
   "metadata": {},
   "outputs": [
    {
     "data": {
      "text/html": [
       "<div>\n",
       "<style scoped>\n",
       "    .dataframe tbody tr th:only-of-type {\n",
       "        vertical-align: middle;\n",
       "    }\n",
       "\n",
       "    .dataframe tbody tr th {\n",
       "        vertical-align: top;\n",
       "    }\n",
       "\n",
       "    .dataframe thead th {\n",
       "        text-align: right;\n",
       "    }\n",
       "</style>\n",
       "<table border=\"1 \"class=\"dataframe \">\n",
       "<thead>\n",
       "<tr>\n",
       "<th>\n",
       "income\n",
       "</th>\n",
       "</tr>\n",
       "<tr>\n",
       "<td>\n",
       "f64\n",
       "</td>\n",
       "</tr>\n",
       "</thead>\n",
       "<tbody>\n",
       "<tr>\n",
       "<td>\n",
       "-0.5018\n",
       "</td>\n",
       "</tr>\n",
       "</tbody>\n",
       "</table>\n",
       "</div>"
      ],
      "text/plain": [
       "shape: (1, 1)\n",
       "┌─────────┐\n",
       "│ income  │\n",
       "│ ---     │\n",
       "│ f64     │\n",
       "╞═════════╡\n",
       "│ -0.5018 │\n",
       "└─────────┘"
      ]
     },
     "execution_count": 9,
     "metadata": {},
     "output_type": "execute_result"
    }
   ],
   "source": [
    "df.select(pl.pearson_corr(\"income\", \"total_fer\"))"
   ]
  },
  {
   "cell_type": "code",
   "execution_count": 10,
   "metadata": {},
   "outputs": [
    {
     "data": {
      "text/html": [
       "<div>\n",
       "<style scoped>\n",
       "    .dataframe tbody tr th:only-of-type {\n",
       "        vertical-align: middle;\n",
       "    }\n",
       "\n",
       "    .dataframe tbody tr th {\n",
       "        vertical-align: top;\n",
       "    }\n",
       "\n",
       "    .dataframe thead th {\n",
       "        text-align: right;\n",
       "    }\n",
       "</style>\n",
       "<table border=\"1 \"class=\"dataframe \">\n",
       "<thead>\n",
       "<tr>\n",
       "<th>\n",
       "total_fer\n",
       "</th>\n",
       "</tr>\n",
       "<tr>\n",
       "<td>\n",
       "f64\n",
       "</td>\n",
       "</tr>\n",
       "</thead>\n",
       "<tbody>\n",
       "<tr>\n",
       "<td>\n",
       "0.848478\n",
       "</td>\n",
       "</tr>\n",
       "</tbody>\n",
       "</table>\n",
       "</div>"
      ],
      "text/plain": [
       "shape: (1, 1)\n",
       "┌───────────┐\n",
       "│ total_fer │\n",
       "│ ---       │\n",
       "│ f64       │\n",
       "╞═══════════╡\n",
       "│ 0.848478  │\n",
       "└───────────┘"
      ]
     },
     "execution_count": 10,
     "metadata": {},
     "output_type": "execute_result"
    }
   ],
   "source": [
    "df.select(pl.pearson_corr(\"total_fer\", \"child_mort\"))"
   ]
  },
  {
   "cell_type": "markdown",
   "metadata": {},
   "source": [
    "These two statistics show that population is heavily influenced by the child mortality rate and income. Talking to my fiancée, she told that the decrease in the number of children is directly impacted by increased feminine independence and a decrease in child mortality. Both of these are shown to be true in the above correlations."
   ]
  },
  {
   "cell_type": "code",
   "execution_count": 11,
   "metadata": {},
   "outputs": [
    {
     "data": {
      "text/plain": [
       "<seaborn.axisgrid.PairGrid at 0x7f1313d5e440>"
      ]
     },
     "execution_count": 11,
     "metadata": {},
     "output_type": "execute_result"
    },
    {
     "data": {
      "image/png": "[encoded data removed]",
      "text/plain": [
       "<Figure size 540x540 with 9 Axes>"
      ]
     },
     "metadata": {
      "needs_background": "light"
     },
     "output_type": "display_data"
    }
   ],
   "source": [
    "sb.pairplot(df[[\"income\", \"total_fer\", \"child_mort\"]].to_pandas(), corner=True)"
   ]
  },
  {
   "cell_type": "markdown",
   "metadata": {},
   "source": [
    "Looking at this, there is an absolute relationship between the values. Income and Child Mortality are inversely related, forming an \"elbow graph\". This is repeated with "
   ]
  },
  {
   "cell_type": "markdown",
   "metadata": {},
   "source": [
    "It also appears there is an outlier in terms of child mortality with over 200."
   ]
  },
  {
   "cell_type": "code",
   "execution_count": 12,
   "metadata": {},
   "outputs": [
    {
     "data": {
      "text/html": [
       "<div>\n",
       "<style scoped>\n",
       "    .dataframe tbody tr th:only-of-type {\n",
       "        vertical-align: middle;\n",
       "    }\n",
       "\n",
       "    .dataframe tbody tr th {\n",
       "        vertical-align: top;\n",
       "    }\n",
       "\n",
       "    .dataframe thead th {\n",
       "        text-align: right;\n",
       "    }\n",
       "</style>\n",
       "<table border=\"1 \"class=\"dataframe \">\n",
       "<thead>\n",
       "<tr>\n",
       "<th>\n",
       "country\n",
       "</th>\n",
       "<th>\n",
       "child_mort\n",
       "</th>\n",
       "<th>\n",
       "exports\n",
       "</th>\n",
       "<th>\n",
       "health\n",
       "</th>\n",
       "<th>\n",
       "imports\n",
       "</th>\n",
       "<th>\n",
       "income\n",
       "</th>\n",
       "<th>\n",
       "inflation\n",
       "</th>\n",
       "<th>\n",
       "life_expec\n",
       "</th>\n",
       "<th>\n",
       "total_fer\n",
       "</th>\n",
       "<th>\n",
       "gdpp\n",
       "</th>\n",
       "</tr>\n",
       "<tr>\n",
       "<td>\n",
       "str\n",
       "</td>\n",
       "<td>\n",
       "f64\n",
       "</td>\n",
       "<td>\n",
       "f64\n",
       "</td>\n",
       "<td>\n",
       "f64\n",
       "</td>\n",
       "<td>\n",
       "f64\n",
       "</td>\n",
       "<td>\n",
       "i64\n",
       "</td>\n",
       "<td>\n",
       "f64\n",
       "</td>\n",
       "<td>\n",
       "f64\n",
       "</td>\n",
       "<td>\n",
       "f64\n",
       "</td>\n",
       "<td>\n",
       "i64\n",
       "</td>\n",
       "</tr>\n",
       "</thead>\n",
       "<tbody>\n",
       "<tr>\n",
       "<td>\n",
       "\"Sierra Leone\"\n",
       "</td>\n",
       "<td>\n",
       "160.0\n",
       "</td>\n",
       "<td>\n",
       "16.8\n",
       "</td>\n",
       "<td>\n",
       "13.1\n",
       "</td>\n",
       "<td>\n",
       "34.5\n",
       "</td>\n",
       "<td>\n",
       "1220\n",
       "</td>\n",
       "<td>\n",
       "17.2\n",
       "</td>\n",
       "<td>\n",
       "55.0\n",
       "</td>\n",
       "<td>\n",
       "5.2\n",
       "</td>\n",
       "<td>\n",
       "399\n",
       "</td>\n",
       "</tr>\n",
       "<tr>\n",
       "<td>\n",
       "\"Haiti\"\n",
       "</td>\n",
       "<td>\n",
       "208.0\n",
       "</td>\n",
       "<td>\n",
       "15.3\n",
       "</td>\n",
       "<td>\n",
       "6.91\n",
       "</td>\n",
       "<td>\n",
       "64.7\n",
       "</td>\n",
       "<td>\n",
       "1500\n",
       "</td>\n",
       "<td>\n",
       "5.45\n",
       "</td>\n",
       "<td>\n",
       "32.1\n",
       "</td>\n",
       "<td>\n",
       "3.33\n",
       "</td>\n",
       "<td>\n",
       "662\n",
       "</td>\n",
       "</tr>\n",
       "</tbody>\n",
       "</table>\n",
       "</div>"
      ],
      "text/plain": [
       "shape: (2, 10)\n",
       "┌──────────────┬────────────┬─────────┬────────┬─────┬───────────┬────────────┬───────────┬──────┐\n",
       "│ country      ┆ child_mort ┆ exports ┆ health ┆ ... ┆ inflation ┆ life_expec ┆ total_fer ┆ gdpp │\n",
       "│ ---          ┆ ---        ┆ ---     ┆ ---    ┆     ┆ ---       ┆ ---        ┆ ---       ┆ ---  │\n",
       "│ str          ┆ f64        ┆ f64     ┆ f64    ┆     ┆ f64       ┆ f64        ┆ f64       ┆ i64  │\n",
       "╞══════════════╪════════════╪═════════╪════════╪═════╪═══════════╪════════════╪═══════════╪══════╡\n",
       "│ Sierra Leone ┆ 160.0      ┆ 16.8    ┆ 13.1   ┆ ... ┆ 17.2      ┆ 55.0       ┆ 5.2       ┆ 399  │\n",
       "├╌╌╌╌╌╌╌╌╌╌╌╌╌╌┼╌╌╌╌╌╌╌╌╌╌╌╌┼╌╌╌╌╌╌╌╌╌┼╌╌╌╌╌╌╌╌┼╌╌╌╌╌┼╌╌╌╌╌╌╌╌╌╌╌┼╌╌╌╌╌╌╌╌╌╌╌╌┼╌╌╌╌╌╌╌╌╌╌╌┼╌╌╌╌╌╌┤\n",
       "│ Haiti        ┆ 208.0      ┆ 15.3    ┆ 6.91   ┆ ... ┆ 5.45      ┆ 32.1       ┆ 3.33      ┆ 662  │\n",
       "└──────────────┴────────────┴─────────┴────────┴─────┴───────────┴────────────┴───────────┴──────┘"
      ]
     },
     "execution_count": 12,
     "metadata": {},
     "output_type": "execute_result"
    }
   ],
   "source": [
    "df.sort(\"child_mort\").tail(2)"
   ]
  },
  {
   "cell_type": "markdown",
   "metadata": {},
   "source": [
    "From this we can see Haiti has an insane child mortality rate, with nearly 50 more than the next worse. This is something to take note of, as the correlation between child mortality and GDP per capita is quite high. "
   ]
  },
  {
   "cell_type": "code",
   "execution_count": 13,
   "metadata": {},
   "outputs": [
    {
     "data": {
      "text/html": [
       "<div>\n",
       "<style scoped>\n",
       "    .dataframe tbody tr th:only-of-type {\n",
       "        vertical-align: middle;\n",
       "    }\n",
       "\n",
       "    .dataframe tbody tr th {\n",
       "        vertical-align: top;\n",
       "    }\n",
       "\n",
       "    .dataframe thead th {\n",
       "        text-align: right;\n",
       "    }\n",
       "</style>\n",
       "<table border=\"1 \"class=\"dataframe \">\n",
       "<thead>\n",
       "<tr>\n",
       "<th>\n",
       "gdpp\n",
       "</th>\n",
       "</tr>\n",
       "<tr>\n",
       "<td>\n",
       "f64\n",
       "</td>\n",
       "</tr>\n",
       "</thead>\n",
       "<tbody>\n",
       "<tr>\n",
       "<td>\n",
       "-0.483032\n",
       "</td>\n",
       "</tr>\n",
       "</tbody>\n",
       "</table>\n",
       "</div>"
      ],
      "text/plain": [
       "shape: (1, 1)\n",
       "┌───────────┐\n",
       "│ gdpp      │\n",
       "│ ---       │\n",
       "│ f64       │\n",
       "╞═══════════╡\n",
       "│ -0.483032 │\n",
       "└───────────┘"
      ]
     },
     "execution_count": 13,
     "metadata": {},
     "output_type": "execute_result"
    }
   ],
   "source": [
    "df.select(pl.pearson_corr(\"gdpp\", \"child_mort\"))"
   ]
  },
  {
   "cell_type": "code",
   "execution_count": 14,
   "metadata": {},
   "outputs": [
    {
     "data": {
      "text/plain": [
       "<AxesSubplot:xlabel='gdpp', ylabel='child_mort'>"
      ]
     },
     "execution_count": 14,
     "metadata": {},
     "output_type": "execute_result"
    },
    {
     "data": {
      "image/png": "[encoded data removed]",
      "text/plain": [
       "<Figure size 432x288 with 1 Axes>"
      ]
     },
     "metadata": {
      "needs_background": "light"
     },
     "output_type": "display_data"
    }
   ],
   "source": [
    "sb.scatterplot(x=\"gdpp\", y=\"child_mort\", data=df.to_pandas())"
   ]
  },
  {
   "cell_type": "code",
   "execution_count": 15,
   "metadata": {},
   "outputs": [
    {
     "data": {
      "text/html": [
       "<div>\n",
       "<style scoped>\n",
       "    .dataframe tbody tr th:only-of-type {\n",
       "        vertical-align: middle;\n",
       "    }\n",
       "\n",
       "    .dataframe tbody tr th {\n",
       "        vertical-align: top;\n",
       "    }\n",
       "\n",
       "    .dataframe thead th {\n",
       "        text-align: right;\n",
       "    }\n",
       "</style>\n",
       "<table border=\"1 \"class=\"dataframe \">\n",
       "<thead>\n",
       "<tr>\n",
       "<th>\n",
       "country\n",
       "</th>\n",
       "<th>\n",
       "child_mort\n",
       "</th>\n",
       "<th>\n",
       "exports\n",
       "</th>\n",
       "<th>\n",
       "health\n",
       "</th>\n",
       "<th>\n",
       "imports\n",
       "</th>\n",
       "<th>\n",
       "income\n",
       "</th>\n",
       "<th>\n",
       "inflation\n",
       "</th>\n",
       "<th>\n",
       "life_expec\n",
       "</th>\n",
       "<th>\n",
       "total_fer\n",
       "</th>\n",
       "<th>\n",
       "gdpp\n",
       "</th>\n",
       "</tr>\n",
       "<tr>\n",
       "<td>\n",
       "str\n",
       "</td>\n",
       "<td>\n",
       "f64\n",
       "</td>\n",
       "<td>\n",
       "f64\n",
       "</td>\n",
       "<td>\n",
       "f64\n",
       "</td>\n",
       "<td>\n",
       "f64\n",
       "</td>\n",
       "<td>\n",
       "i64\n",
       "</td>\n",
       "<td>\n",
       "f64\n",
       "</td>\n",
       "<td>\n",
       "f64\n",
       "</td>\n",
       "<td>\n",
       "f64\n",
       "</td>\n",
       "<td>\n",
       "i64\n",
       "</td>\n",
       "</tr>\n",
       "</thead>\n",
       "<tbody>\n",
       "<tr>\n",
       "<td>\n",
       "\"Equatorial Guinea\"\n",
       "</td>\n",
       "<td>\n",
       "111.0\n",
       "</td>\n",
       "<td>\n",
       "85.8\n",
       "</td>\n",
       "<td>\n",
       "4.48\n",
       "</td>\n",
       "<td>\n",
       "58.9\n",
       "</td>\n",
       "<td>\n",
       "33700\n",
       "</td>\n",
       "<td>\n",
       "24.9\n",
       "</td>\n",
       "<td>\n",
       "60.9\n",
       "</td>\n",
       "<td>\n",
       "5.21\n",
       "</td>\n",
       "<td>\n",
       "17100\n",
       "</td>\n",
       "</tr>\n",
       "</tbody>\n",
       "</table>\n",
       "</div>"
      ],
      "text/plain": [
       "shape: (1, 10)\n",
       "┌────────────┬────────────┬─────────┬────────┬─────┬───────────┬────────────┬───────────┬───────┐\n",
       "│ country    ┆ child_mort ┆ exports ┆ health ┆ ... ┆ inflation ┆ life_expec ┆ total_fer ┆ gdpp  │\n",
       "│ ---        ┆ ---        ┆ ---     ┆ ---    ┆     ┆ ---       ┆ ---        ┆ ---       ┆ ---   │\n",
       "│ str        ┆ f64        ┆ f64     ┆ f64    ┆     ┆ f64       ┆ f64        ┆ f64       ┆ i64   │\n",
       "╞════════════╪════════════╪═════════╪════════╪═════╪═══════════╪════════════╪═══════════╪═══════╡\n",
       "│ Equatorial ┆ 111.0      ┆ 85.8    ┆ 4.48   ┆ ... ┆ 24.9      ┆ 60.9       ┆ 5.21      ┆ 17100 │\n",
       "│ Guinea     ┆            ┆         ┆        ┆     ┆           ┆            ┆           ┆       │\n",
       "└────────────┴────────────┴─────────┴────────┴─────┴───────────┴────────────┴───────────┴───────┘"
      ]
     },
     "execution_count": 15,
     "metadata": {},
     "output_type": "execute_result"
    }
   ],
   "source": [
    "df.filter(pl.col(\"child_mort\") > 100).sort(\"gdpp\", True)[0]"
   ]
  },
  {
   "cell_type": "markdown",
   "metadata": {},
   "source": [
    "It appears the Equatorial Guinea is quite the oddity as its well off, but awful in health."
   ]
  }
 ],
 "metadata": {
  "interpreter": {
   "hash": "1bdbaf5176ecfefa87f872fee877911f6d00bd1a2c40099b77be72f6c2f04fc5"
  },
  "kernelspec": {
   "display_name": "Python 3 (ipykernel)",
   "language": "python",
   "name": "python3"
  },
  "language_info": {
   "codemirror_mode": {
    "name": "ipython",
    "version": 3
   },
   "file_extension": ".py",
   "mimetype": "text/x-python",
   "name": "python",
   "nbconvert_exporter": "python",
   "pygments_lexer": "ipython3",
   "version": "3.10.2"
  }
 },
 "nbformat": 4,
 "nbformat_minor": 4
}
