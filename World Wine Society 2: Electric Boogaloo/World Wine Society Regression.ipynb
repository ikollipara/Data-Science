{
 "cells": [
  {
   "cell_type": "markdown",
   "id": "a016b939-d4f5-4681-b734-ef23c021c3c1",
   "metadata": {},
   "source": [
    "# <center>World Wide Wine Society Regression</center>\n",
    "\n",
    "Ian Kollipara\n",
    "\n",
    "CS 392 Seminar in Data Science\n",
    "\n",
    "April 29, 2022\n",
    "\n",
    "<hr>"
   ]
  },
  {
   "cell_type": "code",
   "execution_count": 31,
   "id": "309bd884-0cb0-4cb3-bb2d-a7d76a19ca7e",
   "metadata": {},
   "outputs": [],
   "source": [
    "import pandas as pd\n",
    "import seaborn as sns\n",
    "import matplotlib.pyplot as plt\n",
    "plt.style.use(\"ggplot\")\n",
    "from sklearn.model_selection import train_test_split, GridSearchCV\n",
    "from sklearn.metrics import explained_variance_score, mean_squared_error, make_scorer, confusion_matrix, classification_report\n",
    "from sklearn.linear_model import Ridge, Lasso\n",
    "from sklearn.tree import DecisionTreeRegressor, DecisionTreeClassifier\n",
    "from sklearn.preprocessing import StandardScaler"
   ]
  },
  {
   "cell_type": "code",
   "execution_count": 5,
   "id": "128c2605-d905-4e0c-9734-1dd435f90a01",
   "metadata": {},
   "outputs": [],
   "source": [
    "df = pd.read_csv(\"WhiteWine.csv\", sep=\";\")"
   ]
  },
  {
   "cell_type": "markdown",
   "id": "68d25be0-84b8-4654-9b3c-6544cec35b10",
   "metadata": {},
   "source": [
    "<hr>\n",
    "\n",
    "## Preprocessing\n",
    "\n",
    "An important statistic to note is the distribution of values in our dataset."
   ]
  },
  {
   "cell_type": "code",
   "execution_count": 11,
   "id": "249f02b3-978a-4d84-b77c-b78aac4bc5be",
   "metadata": {},
   "outputs": [
    {
     "data": {
      "text/plain": [
       "Text(0.5, 1.0, 'Distribution of Quality Ratings')"
      ]
     },
     "execution_count": 11,
     "metadata": {},
     "output_type": "execute_result"
    },
    {
     "data": {
      "image/png": "[encoded data removed]",
      "text/plain": [
       "<Figure size 432x288 with 1 Axes>"
      ]
     },
     "metadata": {},
     "output_type": "display_data"
    }
   ],
   "source": [
    "sns.histplot(df, x=\"quality\", discrete=True)\n",
    "plt.title(\"Distribution of Quality Ratings\")"
   ]
  },
  {
   "cell_type": "markdown",
   "id": "2120472b-f4ac-43a7-8df1-a8eae43e15a3",
   "metadata": {},
   "source": [
    "As we can see here, the ratio models a normal distribution. Because of this, our model will struggle with predicting values that lie on the bottom parts of the curve. To combat this, we will s\n",
    "\n",
    "Compared to the last model, there's not much difference. However, as we are optimizing for regression as opposed to classification, we want to identify the features that best predict, or rather correlate, with the target attribute: quality."
   ]
  },
  {
   "cell_type": "code",
   "execution_count": 8,
   "id": "9e9071bd-3ab6-4cd3-a4fc-f0ec23cb2034",
   "metadata": {},
   "outputs": [
    {
     "name": "stdout",
     "output_type": "stream",
     "text": [
      "Pearson (Linear)\n",
      "density                -0.307123\n",
      "chlorides              -0.209934\n",
      "volatile acidity       -0.194723\n",
      "total sulfur dioxide   -0.174737\n",
      "fixed acidity          -0.113663\n",
      "residual sugar         -0.097577\n",
      "citric acid            -0.009209\n",
      "free sulfur dioxide     0.008158\n",
      "sulphates               0.053678\n",
      "pH                      0.099427\n",
      "alcohol                 0.435575\n",
      "quality                 1.000000\n",
      "dtype: float64\n",
      "\n",
      "Spearman Rank (Monotonic)\n"
     ]
    },
    {
     "data": {
      "text/plain": [
       "density                -0.348351\n",
       "chlorides              -0.314488\n",
       "total sulfur dioxide   -0.196680\n",
       "volatile acidity       -0.196562\n",
       "fixed acidity          -0.084485\n",
       "residual sugar         -0.082070\n",
       "citric acid             0.018333\n",
       "free sulfur dioxide     0.023713\n",
       "sulphates               0.033319\n",
       "pH                      0.109362\n",
       "alcohol                 0.440369\n",
       "quality                 1.000000\n",
       "dtype: float64"
      ]
     },
     "execution_count": 8,
     "metadata": {},
     "output_type": "execute_result"
    }
   ],
   "source": [
    "print(\"Pearson (Linear)\")\n",
    "print(df.corrwith(df[\"quality\"]).sort_values())\n",
    "print()\n",
    "print(\"Spearman Rank (Monotonic)\")\n",
    "df.corrwith(df[\"quality\"], method=\"spearman\").sort_values()"
   ]
  },
  {
   "cell_type": "markdown",
   "id": "c38d7ba4-a71f-46cf-8517-e5d880e8ad85",
   "metadata": {},
   "source": [
    "From here, we can see the correlations are not particularly strong, meaning that no matter what we won't have an incredible model. However, we can glean our top 3 attributes to use for the regression model."
   ]
  },
  {
   "cell_type": "code",
   "execution_count": 13,
   "id": "08351174-d7ca-43d4-adbc-69db4395f6ba",
   "metadata": {},
   "outputs": [],
   "source": [
    "scaler = StandardScaler()\n",
    "X = scaler.fit_transform(df[[\"density\", \"chlorides\", \"volatile acidity\"]])\n",
    "y = df[\"quality\"]\n",
    "X_train, X_test, y_train, y_test = train_test_split(X, y)"
   ]
  },
  {
   "cell_type": "markdown",
   "id": "2f2894d7-732b-4599-8c6b-26b826160629",
   "metadata": {},
   "source": [
    "## Regession\n",
    "\n",
    "For all the models here, the primary metrics used to assess the models will be explained variance score, and mean squared error. Although the chosen models may not optimize in that manner, these statistics give a baseline by which the models may be compared.\n",
    "\n",
    "### Ridge\n",
    "Ridge is a variant on SDG where the the loss function optimized is:\n",
    "$$||y - Xw||^2_2 + \\alpha ||w||^2_2$$\n",
    "The parameter we can tune is $\\alpha$ as it determines something akin to smoothing. \n",
    "#### Hyperparameter Tuning"
   ]
  },
  {
   "cell_type": "code",
   "execution_count": 19,
   "id": "c5582b53-a62a-47e6-b299-2a48cea40bac",
   "metadata": {},
   "outputs": [
    {
     "name": "stdout",
     "output_type": "stream",
     "text": [
      "Best Score\n",
      "0.13891464282142993\n",
      "\n",
      "Best Parameters\n",
      "{'alpha': 2}\n",
      "\n",
      "CPU times: user 43.3 ms, sys: 9.47 ms, total: 52.8 ms\n",
      "Wall time: 82.4 ms\n"
     ]
    }
   ],
   "source": [
    "%%time\n",
    "\n",
    "param_grid = {\"alpha\": [0.00001, 0.0001, 0.001, 0.01, 0.1, 1, 1.5, 2]}\n",
    "\n",
    "rg = GridSearchCV(Ridge(), param_grid, n_jobs=-1).fit(X_train, y_train)\n",
    "\n",
    "print(\"Best Score\")\n",
    "print(rg.best_score_)\n",
    "print()\n",
    "print(\"Best Parameters\")\n",
    "print(rg.best_params_)\n",
    "print()\n",
    "rg_model = rg.best_estimator_"
   ]
  },
  {
   "cell_type": "markdown",
   "id": "34dcdc19-dd28-4bee-8fe6-1c5050e8a6bf",
   "metadata": {},
   "source": [
    "We can see this model is quite weak in score. We can view the aforementioned metrics. In the case of Mean Squared Error, we want the smallest possible value. In the case of Explained Variance Score we want as close to 1 as possible.\n",
    "#### Evaluation"
   ]
  },
  {
   "cell_type": "code",
   "execution_count": 22,
   "id": "825834e7-27f6-44ff-9586-d94b60c171a5",
   "metadata": {},
   "outputs": [
    {
     "name": "stdout",
     "output_type": "stream",
     "text": [
      "Explained Variance Score: 0.14580284676338118\n",
      "Mean Squared Error:       0.660700096420434\n",
      "\n",
      "CPU times: user 2.52 ms, sys: 283 µs, total: 2.81 ms\n",
      "Wall time: 1.88 ms\n"
     ]
    }
   ],
   "source": [
    "%%time\n",
    "\n",
    "y_pred = rg_model.predict(X_test)\n",
    "\n",
    "print(f\"Explained Variance Score: {explained_variance_score(y_test, y_pred)}\")\n",
    "print(f\"Mean Squared Error:       {mean_squared_error(y_test, y_pred)}\")\n",
    "print()"
   ]
  },
  {
   "cell_type": "markdown",
   "id": "ab31fd07-8873-4348-a049-8d241aa10457",
   "metadata": {},
   "source": [
    "These are, to be frank, awful results. This is due in part to a dataset without strong correlations. This makes regession far more difficult as there aren't features that relate well to the target.\n",
    "\n",
    "### Decision Tree Regressor\n",
    "Decision Trees are industry standard models. They can be applied to regression as well as classification. There's more to analyze and tune compared to Ridge.\n",
    "#### Hyperparameter Tuning"
   ]
  },
  {
   "cell_type": "code",
   "execution_count": 28,
   "id": "b9cf73e5-e51e-4b12-9baf-a3e8f2a685e9",
   "metadata": {},
   "outputs": [
    {
     "name": "stdout",
     "output_type": "stream",
     "text": [
      "Best Score\n",
      "-0.03678258131831043\n",
      "\n",
      "Best Parameters\n",
      "{'criterion': 'squared_error', 'max_features': 'sqrt', 'min_samples_split': 6}\n",
      "\n",
      "CPU times: user 104 ms, sys: 70 ms, total: 174 ms\n",
      "Wall time: 3.23 s\n"
     ]
    }
   ],
   "source": [
    "%%time\n",
    "\n",
    "param_grid = {\n",
    "    \"criterion\": [\"squared_error\", \"absolute_error\"],\n",
    "    \"min_samples_split\": [2, 4, 6],\n",
    "    \"max_features\": [None, \"auto\", \"log2\", \"sqrt\"],\n",
    "}\n",
    "\n",
    "dtg = GridSearchCV(DecisionTreeRegressor(), param_grid, n_jobs=-1).fit(X_train, y_train)\n",
    "\n",
    "print(\"Best Score\")\n",
    "print(dtg.best_score_)\n",
    "print()\n",
    "print(\"Best Parameters\")\n",
    "print(dtg.best_params_)\n",
    "print()\n",
    "dtg_model = dtg.best_estimator_"
   ]
  },
  {
   "cell_type": "markdown",
   "id": "208fc531-2c9b-471d-b38a-52bec4f22344",
   "metadata": {},
   "source": [
    "#### Evaluation"
   ]
  },
  {
   "cell_type": "code",
   "execution_count": 29,
   "id": "cbcd437f-57ca-41a3-ba00-dfed0037c874",
   "metadata": {},
   "outputs": [
    {
     "name": "stdout",
     "output_type": "stream",
     "text": [
      "Explained Variance Score: -0.019680695040189544\n",
      "Mean Squared Error:       0.7886506825859595\n",
      "\n",
      "CPU times: user 326 µs, sys: 2.21 ms, total: 2.53 ms\n",
      "Wall time: 1.56 ms\n"
     ]
    }
   ],
   "source": [
    "%%time\n",
    "\n",
    "y_pred = dtg_model.predict(X_test)\n",
    "\n",
    "print(f\"Explained Variance Score: {explained_variance_score(y_test, y_pred)}\")\n",
    "print(f\"Mean Squared Error:       {mean_squared_error(y_test, y_pred)}\")\n",
    "print()"
   ]
  },
  {
   "cell_type": "markdown",
   "id": "a897eec0-d6a0-458d-a379-00301d2d0d5e",
   "metadata": {},
   "source": [
    "These results are also awful.\n",
    "\n",
    "## Conclusion\n",
    "\n",
    "These models were not strong indicators of White Wine ratings. I attribute this to low correlation scores. This lack of correlation means there's no strong indicators for the rating. Given this, there's not much to be done in terms of regression. However, I wanted to create some sort of predictor, so I have drafted up a Random Forest/Decision Tree Multi-Class Classifier. By treating the ratings like classes, we can create a classification model to classify based on ratings."
   ]
  },
  {
   "cell_type": "code",
   "execution_count": 40,
   "id": "9c152dbf-b771-48a9-b372-5d201d86bdf0",
   "metadata": {},
   "outputs": [
    {
     "name": "stdout",
     "output_type": "stream",
     "text": [
      "Best Score\n",
      "0.5826272961500676\n",
      "\n",
      "Best Params\n",
      "{'criterion': 'gini', 'max_features': 'log2', 'min_samples_split': 2}\n",
      "\n",
      "CPU times: user 131 ms, sys: 11.1 ms, total: 142 ms\n",
      "Wall time: 454 ms\n"
     ]
    }
   ],
   "source": [
    "%%time\n",
    "\n",
    "X = df.drop(columns=[\"quality\"])\n",
    "y = df[\"quality\"]\n",
    "\n",
    "X_train, X_test, y_train, y_test = train_test_split(X, y)\n",
    "\n",
    "param_grid = {\n",
    "    \"criterion\": [\"entropy\", \"gini\"],\n",
    "    \"max_features\": [\"log2\", \"sqrt\", None],\n",
    "    \"min_samples_split\": [1, 2],\n",
    "    \"min_samples_split\": [2, 4, 6, 8, 10]\n",
    "}\n",
    "\n",
    "dt_grid = GridSearchCV(DecisionTreeClassifier(), param_grid, n_jobs=-1).fit(X_train, y_train)\n",
    "\n",
    "print(\"Best Score\")\n",
    "print(dt_grid.best_score_)\n",
    "print()\n",
    "print(\"Best Params\")\n",
    "print(dt_grid.best_params_)\n",
    "print()\n",
    "model = dt_grid.best_estimator_"
   ]
  },
  {
   "cell_type": "code",
   "execution_count": 41,
   "id": "98d3f2e1-0427-4cb0-8422-a988ad06dc99",
   "metadata": {},
   "outputs": [
    {
     "name": "stdout",
     "output_type": "stream",
     "text": [
      "Confusion Matrix\n",
      "[[  0   0   4   2   3   0   0]\n",
      " [  0   7  16  17   4   0   0]\n",
      " [  0  16 213 116  26   2   0]\n",
      " [  1  10  89 360  61  12   1]\n",
      " [  0   0  14  68 127  11   0]\n",
      " [  0   0   1  10  12  22   0]\n",
      " [  0   0   0   0   0   0   0]]\n",
      "\n",
      "Classification Report\n",
      "              precision    recall  f1-score   support\n",
      "\n",
      "           3       0.00      0.00      0.00         9\n",
      "           4       0.21      0.16      0.18        44\n",
      "           5       0.63      0.57      0.60       373\n",
      "           6       0.63      0.67      0.65       534\n",
      "           7       0.55      0.58      0.56       220\n",
      "           8       0.47      0.49      0.48        45\n",
      "           9       0.00      0.00      0.00         0\n",
      "\n",
      "    accuracy                           0.60      1225\n",
      "   macro avg       0.36      0.35      0.35      1225\n",
      "weighted avg       0.59      0.60      0.59      1225\n",
      "\n"
     ]
    },
    {
     "name": "stderr",
     "output_type": "stream",
     "text": [
      "/home/ikollipara/Documents/GitHub/Data-Science-/.venv/lib64/python3.10/site-packages/sklearn/metrics/_classification.py:1318: UndefinedMetricWarning: Recall and F-score are ill-defined and being set to 0.0 in labels with no true samples. Use `zero_division` parameter to control this behavior.\n",
      "  _warn_prf(average, modifier, msg_start, len(result))\n",
      "/home/ikollipara/Documents/GitHub/Data-Science-/.venv/lib64/python3.10/site-packages/sklearn/metrics/_classification.py:1318: UndefinedMetricWarning: Recall and F-score are ill-defined and being set to 0.0 in labels with no true samples. Use `zero_division` parameter to control this behavior.\n",
      "  _warn_prf(average, modifier, msg_start, len(result))\n",
      "/home/ikollipara/Documents/GitHub/Data-Science-/.venv/lib64/python3.10/site-packages/sklearn/metrics/_classification.py:1318: UndefinedMetricWarning: Recall and F-score are ill-defined and being set to 0.0 in labels with no true samples. Use `zero_division` parameter to control this behavior.\n",
      "  _warn_prf(average, modifier, msg_start, len(result))\n"
     ]
    }
   ],
   "source": [
    "y_pred = model.predict(X_test)\n",
    "print(\"Confusion Matrix\")\n",
    "print(confusion_matrix(y_test, y_pred))\n",
    "print()\n",
    "print(\"Classification Report\")\n",
    "print(classification_report(y_test, y_pred))"
   ]
  },
  {
   "cell_type": "markdown",
   "id": "cb22fb21-e58d-47c1-8ed0-437278427977",
   "metadata": {},
   "source": [
    "Even in this case, the model is awful. The sheer lack of data for other cases, such as 9 and 3 mean that the classification suffers. This same issue also causes issues in the regression. Overall, I do not reccomend using this model without more data. "
   ]
  }
 ],
 "metadata": {
  "kernelspec": {
   "display_name": "Python 3 (ipykernel)",
   "language": "python",
   "name": "python3"
  },
  "language_info": {
   "codemirror_mode": {
    "name": "ipython",
    "version": 3
   },
   "file_extension": ".py",
   "mimetype": "text/x-python",
   "name": "python",
   "nbconvert_exporter": "python",
   "pygments_lexer": "ipython3",
   "version": "3.10.4"
  }
 },
 "nbformat": 4,
 "nbformat_minor": 5
}
